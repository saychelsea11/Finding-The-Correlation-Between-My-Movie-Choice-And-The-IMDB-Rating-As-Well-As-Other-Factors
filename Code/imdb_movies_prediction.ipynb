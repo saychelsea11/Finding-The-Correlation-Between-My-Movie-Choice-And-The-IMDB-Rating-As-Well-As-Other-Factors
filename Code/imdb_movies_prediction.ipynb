{
  "nbformat": 4,
  "nbformat_minor": 0,
  "metadata": {
    "colab": {
      "name": "imdb_movies_prediction.ipynb",
      "provenance": [],
      "collapsed_sections": []
    },
    "kernelspec": {
      "name": "python3",
      "display_name": "Python 3"
    }
  },
  "cells": [
    {
      "cell_type": "markdown",
      "metadata": {
        "id": "ZCL1E8ORseBD"
      },
      "source": [
        "# 1. Importing libraries and loading datasets"
      ]
    },
    {
      "cell_type": "code",
      "metadata": {
        "id": "ptYohVfEIxTn",
        "outputId": "08cec923-73ab-41bc-d954-7b3651a0baad",
        "colab": {
          "base_uri": "https://localhost:8080/",
          "height": 35
        }
      },
      "source": [
        "from google.colab import drive\n",
        "drive.mount('/content/drive')"
      ],
      "execution_count": 1,
      "outputs": [
        {
          "output_type": "stream",
          "text": [
            "Mounted at /content/drive\n"
          ],
          "name": "stdout"
        }
      ]
    },
    {
      "cell_type": "code",
      "metadata": {
        "id": "SNbR1j-9I78W"
      },
      "source": [
        "import pandas as pd\n",
        "import numpy as np\n",
        "import matplotlib.pyplot as plt\n",
        "import seaborn as sns\n",
        "import warnings\n",
        "import scipy.stats as st\n",
        "warnings.filterwarnings(action='ignore')"
      ],
      "execution_count": 2,
      "outputs": []
    },
    {
      "cell_type": "markdown",
      "metadata": {
        "id": "liyb_ovGuhP4"
      },
      "source": [
        "We first load the dataset that contains the average rating and number of votes for each movie ID. "
      ]
    },
    {
      "cell_type": "code",
      "metadata": {
        "id": "SLFXcylrKOCk",
        "outputId": "307d53bf-2061-4055-b0f3-1d708475cd6c",
        "colab": {
          "base_uri": "https://localhost:8080/",
          "height": 121
        }
      },
      "source": [
        "df = pd.read_csv('/content/drive/My Drive/data.tsv',encoding='utf-8',delimiter='\\t')\n",
        "print (df.head())"
      ],
      "execution_count": 3,
      "outputs": [
        {
          "output_type": "stream",
          "text": [
            "      tconst  averageRating  numVotes\n",
            "0  tt0000001            5.7      1635\n",
            "1  tt0000002            6.1       198\n",
            "2  tt0000003            6.5      1327\n",
            "3  tt0000004            6.2       120\n",
            "4  tt0000005            6.1      2107\n"
          ],
          "name": "stdout"
        }
      ]
    },
    {
      "cell_type": "markdown",
      "metadata": {
        "id": "A8Nmkg3Zurue"
      },
      "source": [
        "The second dataset is the curated dataset which contains the **manually added like/dislike values** as well as the following key variables:\n",
        "- isAdult\n",
        "- startear\n",
        "- runtimeMinutes\n",
        "- genres"
      ]
    },
    {
      "cell_type": "code",
      "metadata": {
        "id": "eq3DKx__L2JT",
        "outputId": "1a20f306-b3d5-4795-c151-1aadd9f3508a",
        "colab": {
          "base_uri": "https://localhost:8080/",
          "height": 156
        }
      },
      "source": [
        "df_labeled = pd.read_csv('/content/drive/My Drive/movies_labeled.csv',encoding='utf-8')\n",
        "print (df_labeled.head())"
      ],
      "execution_count": 4,
      "outputs": [
        {
          "output_type": "stream",
          "text": [
            "   Unnamed: 0  Unnamed: 0.1  ...  runtimeMinutes                   genres\n",
            "0          37            47  ...             153      Adventure,Drama,War\n",
            "1          41            51  ...              90  Action,Adventure,Sci-Fi\n",
            "2          51            62  ...             126  Action,Adventure,Sci-Fi\n",
            "3          89           110  ...             162     Action,Drama,Mystery\n",
            "4         107           132  ...             153  Action,Adventure,Family\n",
            "\n",
            "[5 rows x 11 columns]\n"
          ],
          "name": "stdout"
        }
      ]
    },
    {
      "cell_type": "markdown",
      "metadata": {
        "id": "br7hmc2Zv5io"
      },
      "source": [
        "# 2. Data cleaning"
      ]
    },
    {
      "cell_type": "code",
      "metadata": {
        "id": "Jd-S6xWPME43",
        "outputId": "0bff57e1-fa59-4469-eada-2775b0a145f3",
        "colab": {
          "base_uri": "https://localhost:8080/",
          "height": 202
        }
      },
      "source": [
        "#Dropping index variables leftover from previous cleaning steps\n",
        "df_labeled = df_labeled.drop(['Unnamed: 0','Unnamed: 0.1','Unnamed: 0.1.1'],axis=1)\n",
        "df_labeled.head()"
      ],
      "execution_count": 5,
      "outputs": [
        {
          "output_type": "execute_result",
          "data": {
            "text/html": [
              "<div>\n",
              "<style scoped>\n",
              "    .dataframe tbody tr th:only-of-type {\n",
              "        vertical-align: middle;\n",
              "    }\n",
              "\n",
              "    .dataframe tbody tr th {\n",
              "        vertical-align: top;\n",
              "    }\n",
              "\n",
              "    .dataframe thead th {\n",
              "        text-align: right;\n",
              "    }\n",
              "</style>\n",
              "<table border=\"1\" class=\"dataframe\">\n",
              "  <thead>\n",
              "    <tr style=\"text-align: right;\">\n",
              "      <th></th>\n",
              "      <th>tconst</th>\n",
              "      <th>titleType</th>\n",
              "      <th>primaryTitle</th>\n",
              "      <th>Like</th>\n",
              "      <th>isAdult</th>\n",
              "      <th>startYear</th>\n",
              "      <th>runtimeMinutes</th>\n",
              "      <th>genres</th>\n",
              "    </tr>\n",
              "  </thead>\n",
              "  <tbody>\n",
              "    <tr>\n",
              "      <th>0</th>\n",
              "      <td>tt0361748</td>\n",
              "      <td>movie</td>\n",
              "      <td>Inglourious Basterds</td>\n",
              "      <td>1.0</td>\n",
              "      <td>0</td>\n",
              "      <td>2009</td>\n",
              "      <td>153</td>\n",
              "      <td>Adventure,Drama,War</td>\n",
              "    </tr>\n",
              "    <tr>\n",
              "      <th>1</th>\n",
              "      <td>tt0364970</td>\n",
              "      <td>movie</td>\n",
              "      <td>Babylon A.D.</td>\n",
              "      <td>2.0</td>\n",
              "      <td>0</td>\n",
              "      <td>2008</td>\n",
              "      <td>90</td>\n",
              "      <td>Action,Adventure,Sci-Fi</td>\n",
              "    </tr>\n",
              "    <tr>\n",
              "      <th>2</th>\n",
              "      <td>tt0371746</td>\n",
              "      <td>movie</td>\n",
              "      <td>Iron Man</td>\n",
              "      <td>1.0</td>\n",
              "      <td>0</td>\n",
              "      <td>2008</td>\n",
              "      <td>126</td>\n",
              "      <td>Action,Adventure,Sci-Fi</td>\n",
              "    </tr>\n",
              "    <tr>\n",
              "      <th>3</th>\n",
              "      <td>tt0409459</td>\n",
              "      <td>movie</td>\n",
              "      <td>Watchmen</td>\n",
              "      <td>2.0</td>\n",
              "      <td>0</td>\n",
              "      <td>2009</td>\n",
              "      <td>162</td>\n",
              "      <td>Action,Drama,Mystery</td>\n",
              "    </tr>\n",
              "    <tr>\n",
              "      <th>4</th>\n",
              "      <td>tt0417741</td>\n",
              "      <td>movie</td>\n",
              "      <td>Harry Potter and the Half-Blood Prince</td>\n",
              "      <td>1.0</td>\n",
              "      <td>0</td>\n",
              "      <td>2009</td>\n",
              "      <td>153</td>\n",
              "      <td>Action,Adventure,Family</td>\n",
              "    </tr>\n",
              "  </tbody>\n",
              "</table>\n",
              "</div>"
            ],
            "text/plain": [
              "      tconst titleType  ... runtimeMinutes                   genres\n",
              "0  tt0361748     movie  ...            153      Adventure,Drama,War\n",
              "1  tt0364970     movie  ...             90  Action,Adventure,Sci-Fi\n",
              "2  tt0371746     movie  ...            126  Action,Adventure,Sci-Fi\n",
              "3  tt0409459     movie  ...            162     Action,Drama,Mystery\n",
              "4  tt0417741     movie  ...            153  Action,Adventure,Family\n",
              "\n",
              "[5 rows x 8 columns]"
            ]
          },
          "metadata": {
            "tags": []
          },
          "execution_count": 5
        }
      ]
    },
    {
      "cell_type": "markdown",
      "metadata": {
        "id": "5pclorme0vVU"
      },
      "source": [
        "Below, we merge the two datasets on the *tconst* variable so that we have variables relating to each movie from each dataset."
      ]
    },
    {
      "cell_type": "code",
      "metadata": {
        "id": "KFPanuZKMZnN",
        "outputId": "04e65363-c272-4127-b961-55ec3ec1483d",
        "colab": {
          "base_uri": "https://localhost:8080/",
          "height": 202
        }
      },
      "source": [
        "df_combined = df.merge(df_labeled,on='tconst',how='inner')\n",
        "df_combined.head()"
      ],
      "execution_count": 6,
      "outputs": [
        {
          "output_type": "execute_result",
          "data": {
            "text/html": [
              "<div>\n",
              "<style scoped>\n",
              "    .dataframe tbody tr th:only-of-type {\n",
              "        vertical-align: middle;\n",
              "    }\n",
              "\n",
              "    .dataframe tbody tr th {\n",
              "        vertical-align: top;\n",
              "    }\n",
              "\n",
              "    .dataframe thead th {\n",
              "        text-align: right;\n",
              "    }\n",
              "</style>\n",
              "<table border=\"1\" class=\"dataframe\">\n",
              "  <thead>\n",
              "    <tr style=\"text-align: right;\">\n",
              "      <th></th>\n",
              "      <th>tconst</th>\n",
              "      <th>averageRating</th>\n",
              "      <th>numVotes</th>\n",
              "      <th>titleType</th>\n",
              "      <th>primaryTitle</th>\n",
              "      <th>Like</th>\n",
              "      <th>isAdult</th>\n",
              "      <th>startYear</th>\n",
              "      <th>runtimeMinutes</th>\n",
              "      <th>genres</th>\n",
              "    </tr>\n",
              "  </thead>\n",
              "  <tbody>\n",
              "    <tr>\n",
              "      <th>0</th>\n",
              "      <td>tt0361748</td>\n",
              "      <td>8.3</td>\n",
              "      <td>1222518</td>\n",
              "      <td>movie</td>\n",
              "      <td>Inglourious Basterds</td>\n",
              "      <td>1.0</td>\n",
              "      <td>0</td>\n",
              "      <td>2009</td>\n",
              "      <td>153</td>\n",
              "      <td>Adventure,Drama,War</td>\n",
              "    </tr>\n",
              "    <tr>\n",
              "      <th>1</th>\n",
              "      <td>tt0364970</td>\n",
              "      <td>5.6</td>\n",
              "      <td>92368</td>\n",
              "      <td>movie</td>\n",
              "      <td>Babylon A.D.</td>\n",
              "      <td>2.0</td>\n",
              "      <td>0</td>\n",
              "      <td>2008</td>\n",
              "      <td>90</td>\n",
              "      <td>Action,Adventure,Sci-Fi</td>\n",
              "    </tr>\n",
              "    <tr>\n",
              "      <th>2</th>\n",
              "      <td>tt0371746</td>\n",
              "      <td>7.9</td>\n",
              "      <td>917136</td>\n",
              "      <td>movie</td>\n",
              "      <td>Iron Man</td>\n",
              "      <td>1.0</td>\n",
              "      <td>0</td>\n",
              "      <td>2008</td>\n",
              "      <td>126</td>\n",
              "      <td>Action,Adventure,Sci-Fi</td>\n",
              "    </tr>\n",
              "    <tr>\n",
              "      <th>3</th>\n",
              "      <td>tt0376136</td>\n",
              "      <td>6.2</td>\n",
              "      <td>97574</td>\n",
              "      <td>movie</td>\n",
              "      <td>The Rum Diary</td>\n",
              "      <td>2.0</td>\n",
              "      <td>0</td>\n",
              "      <td>2011</td>\n",
              "      <td>119</td>\n",
              "      <td>Comedy,Drama</td>\n",
              "    </tr>\n",
              "    <tr>\n",
              "      <th>4</th>\n",
              "      <td>tt0409459</td>\n",
              "      <td>7.6</td>\n",
              "      <td>488627</td>\n",
              "      <td>movie</td>\n",
              "      <td>Watchmen</td>\n",
              "      <td>2.0</td>\n",
              "      <td>0</td>\n",
              "      <td>2009</td>\n",
              "      <td>162</td>\n",
              "      <td>Action,Drama,Mystery</td>\n",
              "    </tr>\n",
              "  </tbody>\n",
              "</table>\n",
              "</div>"
            ],
            "text/plain": [
              "      tconst  averageRating  ...  runtimeMinutes                   genres\n",
              "0  tt0361748            8.3  ...             153      Adventure,Drama,War\n",
              "1  tt0364970            5.6  ...              90  Action,Adventure,Sci-Fi\n",
              "2  tt0371746            7.9  ...             126  Action,Adventure,Sci-Fi\n",
              "3  tt0376136            6.2  ...             119             Comedy,Drama\n",
              "4  tt0409459            7.6  ...             162     Action,Drama,Mystery\n",
              "\n",
              "[5 rows x 10 columns]"
            ]
          },
          "metadata": {
            "tags": []
          },
          "execution_count": 6
        }
      ]
    },
    {
      "cell_type": "code",
      "metadata": {
        "id": "HvuBomsUNQkD",
        "outputId": "38e724cf-ebfb-4d31-ce69-a78d6a34c177",
        "colab": {
          "base_uri": "https://localhost:8080/",
          "height": 35
        }
      },
      "source": [
        "df_combined.shape"
      ],
      "execution_count": null,
      "outputs": [
        {
          "output_type": "execute_result",
          "data": {
            "text/plain": [
              "(130, 10)"
            ]
          },
          "metadata": {
            "tags": []
          },
          "execution_count": 8
        }
      ]
    },
    {
      "cell_type": "markdown",
      "metadata": {
        "id": "QzA3H9IlNqDj"
      },
      "source": [
        "# 3. EDA"
      ]
    },
    {
      "cell_type": "code",
      "metadata": {
        "id": "8pfomVHKNb0M",
        "outputId": "16822949-c942-43db-aaec-d9c744049bae",
        "colab": {
          "base_uri": "https://localhost:8080/",
          "height": 405
        }
      },
      "source": [
        "plt.figure(figsize=(8,6))\n",
        "plt.hist(df_combined['averageRating'])\n",
        "plt.xlabel(\"Rating\")\n",
        "plt.ylabel(\"Frequency\")"
      ],
      "execution_count": 7,
      "outputs": [
        {
          "output_type": "execute_result",
          "data": {
            "text/plain": [
              "Text(0, 0.5, 'Frequency')"
            ]
          },
          "metadata": {
            "tags": []
          },
          "execution_count": 7
        },
        {
          "output_type": "display_data",
          "data": {
            "image/png": "[encoded data removed]",
            "text/plain": [
              "<Figure size 576x432 with 1 Axes>"
            ]
          },
          "metadata": {
            "tags": [],
            "needs_background": "light"
          }
        }
      ]
    },
    {
      "cell_type": "code",
      "metadata": {
        "id": "lQVREOKuOHdk",
        "outputId": "8631cc34-324a-4d1d-9f71-564024c7a79b",
        "colab": {
          "base_uri": "https://localhost:8080/",
          "height": 405
        }
      },
      "source": [
        "plt.figure(figsize=(8,6))\n",
        "sns.countplot(data=df_combined,x='Like')"
      ],
      "execution_count": 8,
      "outputs": [
        {
          "output_type": "execute_result",
          "data": {
            "text/plain": [
              "<matplotlib.axes._subplots.AxesSubplot at 0x7fcd976e7390>"
            ]
          },
          "metadata": {
            "tags": []
          },
          "execution_count": 8
        },
        {
          "output_type": "display_data",
          "data": {
            "image/png": "[encoded data removed]",
            "text/plain": [
              "<Figure size 576x432 with 1 Axes>"
            ]
          },
          "metadata": {
            "tags": [],
            "needs_background": "light"
          }
        }
      ]
    },
    {
      "cell_type": "code",
      "metadata": {
        "id": "SpMVl0DuOUy9",
        "outputId": "b89d133b-4832-48e3-ddb8-dd54fdde4068",
        "colab": {
          "base_uri": "https://localhost:8080/",
          "height": 69
        }
      },
      "source": [
        "df_labeled['Like'].value_counts()"
      ],
      "execution_count": 9,
      "outputs": [
        {
          "output_type": "execute_result",
          "data": {
            "text/plain": [
              "1.0    80\n",
              "2.0    50\n",
              "Name: Like, dtype: int64"
            ]
          },
          "metadata": {
            "tags": []
          },
          "execution_count": 9
        }
      ]
    },
    {
      "cell_type": "markdown",
      "metadata": {
        "id": "qjXISELl1-EF"
      },
      "source": [
        "From the distribution of liked vs disliked movies above, it doesn't appear that any of the classes are imbalanced. Although, the proportion of disliked movies is distinctly lower. "
      ]
    },
    {
      "cell_type": "markdown",
      "metadata": {
        "id": "BaK31-b6LKD9"
      },
      "source": [
        "# 4. Pre-processing and feature engineering"
      ]
    },
    {
      "cell_type": "markdown",
      "metadata": {
        "id": "8dEouW8255jv"
      },
      "source": [
        "Next, a new variable called 'high_rating' is created of boolean type which indicates if a rating for a movie is above 7.5 or not. This is a critical step in the feature engineering process. "
      ]
    },
    {
      "cell_type": "code",
      "metadata": {
        "id": "vW_4ud3vO5bX",
        "outputId": "5a555ddc-dfca-4f02-b43b-1d099f5890c7",
        "colab": {
          "base_uri": "https://localhost:8080/",
          "height": 208
        }
      },
      "source": [
        "df_combined['high_rating'] = (df_combined['averageRating']>7.5).map(int)\n",
        "df_combined['high_rating'].head(10)"
      ],
      "execution_count": 10,
      "outputs": [
        {
          "output_type": "execute_result",
          "data": {
            "text/plain": [
              "0    1\n",
              "1    0\n",
              "2    1\n",
              "3    0\n",
              "4    1\n",
              "5    1\n",
              "6    0\n",
              "7    0\n",
              "8    0\n",
              "9    0\n",
              "Name: high_rating, dtype: int64"
            ]
          },
          "metadata": {
            "tags": []
          },
          "execution_count": 10
        }
      ]
    },
    {
      "cell_type": "markdown",
      "metadata": {
        "id": "gBsVXTV76Uzj"
      },
      "source": [
        "Below, we replace the '0' boolean values for 'high_rating' to a '2' as that is what we used for manually labelling the disliked movies. The comparison across the two variables will be easier due to this. "
      ]
    },
    {
      "cell_type": "code",
      "metadata": {
        "id": "TMOVnxyGR7NW",
        "outputId": "f406f454-9e22-485a-c35d-2e960789bc2b",
        "colab": {
          "base_uri": "https://localhost:8080/",
          "height": 121
        }
      },
      "source": [
        "df_combined['high_rating'] = df_combined['high_rating'].replace(0,2)\n",
        "df_combined['high_rating'].head()"
      ],
      "execution_count": 11,
      "outputs": [
        {
          "output_type": "execute_result",
          "data": {
            "text/plain": [
              "0    1\n",
              "1    2\n",
              "2    1\n",
              "3    2\n",
              "4    1\n",
              "Name: high_rating, dtype: int64"
            ]
          },
          "metadata": {
            "tags": []
          },
          "execution_count": 11
        }
      ]
    },
    {
      "cell_type": "markdown",
      "metadata": {
        "id": "pwTOYXRT7Phw"
      },
      "source": [
        "Next, we compare the manual ratings to the actual ratings based on the 7.5 threshold. This could be considered a baseline model and a smaller-scale rule-based model."
      ]
    },
    {
      "cell_type": "code",
      "metadata": {
        "id": "V5paOdrrQGCd"
      },
      "source": [
        "correct_predictions = (df_combined['high_rating']==df_combined['Like']).map(int).sum()"
      ],
      "execution_count": 12,
      "outputs": []
    },
    {
      "cell_type": "code",
      "metadata": {
        "id": "JHnKGHACRUo7",
        "outputId": "77c3f7d2-e0f6-4436-c951-e99d3a628fa2",
        "colab": {
          "base_uri": "https://localhost:8080/",
          "height": 662
        }
      },
      "source": [
        "df_combined[['primaryTitle','Like','high_rating','averageRating']].head(20)"
      ],
      "execution_count": 13,
      "outputs": [
        {
          "output_type": "execute_result",
          "data": {
            "text/html": [
              "<div>\n",
              "<style scoped>\n",
              "    .dataframe tbody tr th:only-of-type {\n",
              "        vertical-align: middle;\n",
              "    }\n",
              "\n",
              "    .dataframe tbody tr th {\n",
              "        vertical-align: top;\n",
              "    }\n",
              "\n",
              "    .dataframe thead th {\n",
              "        text-align: right;\n",
              "    }\n",
              "</style>\n",
              "<table border=\"1\" class=\"dataframe\">\n",
              "  <thead>\n",
              "    <tr style=\"text-align: right;\">\n",
              "      <th></th>\n",
              "      <th>primaryTitle</th>\n",
              "      <th>Like</th>\n",
              "      <th>high_rating</th>\n",
              "      <th>averageRating</th>\n",
              "    </tr>\n",
              "  </thead>\n",
              "  <tbody>\n",
              "    <tr>\n",
              "      <th>0</th>\n",
              "      <td>Inglourious Basterds</td>\n",
              "      <td>1.0</td>\n",
              "      <td>1</td>\n",
              "      <td>8.3</td>\n",
              "    </tr>\n",
              "    <tr>\n",
              "      <th>1</th>\n",
              "      <td>Babylon A.D.</td>\n",
              "      <td>2.0</td>\n",
              "      <td>2</td>\n",
              "      <td>5.6</td>\n",
              "    </tr>\n",
              "    <tr>\n",
              "      <th>2</th>\n",
              "      <td>Iron Man</td>\n",
              "      <td>1.0</td>\n",
              "      <td>1</td>\n",
              "      <td>7.9</td>\n",
              "    </tr>\n",
              "    <tr>\n",
              "      <th>3</th>\n",
              "      <td>The Rum Diary</td>\n",
              "      <td>2.0</td>\n",
              "      <td>2</td>\n",
              "      <td>6.2</td>\n",
              "    </tr>\n",
              "    <tr>\n",
              "      <th>4</th>\n",
              "      <td>Watchmen</td>\n",
              "      <td>2.0</td>\n",
              "      <td>1</td>\n",
              "      <td>7.6</td>\n",
              "    </tr>\n",
              "    <tr>\n",
              "      <th>5</th>\n",
              "      <td>Harry Potter and the Half-Blood Prince</td>\n",
              "      <td>1.0</td>\n",
              "      <td>1</td>\n",
              "      <td>7.6</td>\n",
              "    </tr>\n",
              "    <tr>\n",
              "      <th>6</th>\n",
              "      <td>Get Smart</td>\n",
              "      <td>1.0</td>\n",
              "      <td>2</td>\n",
              "      <td>6.5</td>\n",
              "    </tr>\n",
              "    <tr>\n",
              "      <th>7</th>\n",
              "      <td>Superhero Movie</td>\n",
              "      <td>2.0</td>\n",
              "      <td>2</td>\n",
              "      <td>4.5</td>\n",
              "    </tr>\n",
              "    <tr>\n",
              "      <th>8</th>\n",
              "      <td>Role Models</td>\n",
              "      <td>2.0</td>\n",
              "      <td>2</td>\n",
              "      <td>6.8</td>\n",
              "    </tr>\n",
              "    <tr>\n",
              "      <th>9</th>\n",
              "      <td>Daybreakers</td>\n",
              "      <td>2.0</td>\n",
              "      <td>2</td>\n",
              "      <td>6.4</td>\n",
              "    </tr>\n",
              "    <tr>\n",
              "      <th>10</th>\n",
              "      <td>Toy Story 3</td>\n",
              "      <td>1.0</td>\n",
              "      <td>1</td>\n",
              "      <td>8.3</td>\n",
              "    </tr>\n",
              "    <tr>\n",
              "      <th>11</th>\n",
              "      <td>Terminator Salvation</td>\n",
              "      <td>1.0</td>\n",
              "      <td>2</td>\n",
              "      <td>6.5</td>\n",
              "    </tr>\n",
              "    <tr>\n",
              "      <th>12</th>\n",
              "      <td>Kung Fu Panda</td>\n",
              "      <td>1.0</td>\n",
              "      <td>2</td>\n",
              "      <td>7.5</td>\n",
              "    </tr>\n",
              "    <tr>\n",
              "      <th>13</th>\n",
              "      <td>Lincoln</td>\n",
              "      <td>1.0</td>\n",
              "      <td>2</td>\n",
              "      <td>7.3</td>\n",
              "    </tr>\n",
              "    <tr>\n",
              "      <th>14</th>\n",
              "      <td>Vantage Point</td>\n",
              "      <td>1.0</td>\n",
              "      <td>2</td>\n",
              "      <td>6.6</td>\n",
              "    </tr>\n",
              "    <tr>\n",
              "      <th>15</th>\n",
              "      <td>10,000 BC</td>\n",
              "      <td>2.0</td>\n",
              "      <td>2</td>\n",
              "      <td>5.1</td>\n",
              "    </tr>\n",
              "    <tr>\n",
              "      <th>16</th>\n",
              "      <td>Shazam!</td>\n",
              "      <td>1.0</td>\n",
              "      <td>2</td>\n",
              "      <td>7.1</td>\n",
              "    </tr>\n",
              "    <tr>\n",
              "      <th>17</th>\n",
              "      <td>Hancock</td>\n",
              "      <td>2.0</td>\n",
              "      <td>2</td>\n",
              "      <td>6.4</td>\n",
              "    </tr>\n",
              "    <tr>\n",
              "      <th>18</th>\n",
              "      <td>Jodhaa Akbar</td>\n",
              "      <td>2.0</td>\n",
              "      <td>1</td>\n",
              "      <td>7.6</td>\n",
              "    </tr>\n",
              "    <tr>\n",
              "      <th>19</th>\n",
              "      <td>Wonder Woman</td>\n",
              "      <td>2.0</td>\n",
              "      <td>2</td>\n",
              "      <td>7.4</td>\n",
              "    </tr>\n",
              "  </tbody>\n",
              "</table>\n",
              "</div>"
            ],
            "text/plain": [
              "                              primaryTitle  Like  high_rating  averageRating\n",
              "0                     Inglourious Basterds   1.0            1            8.3\n",
              "1                             Babylon A.D.   2.0            2            5.6\n",
              "2                                 Iron Man   1.0            1            7.9\n",
              "3                            The Rum Diary   2.0            2            6.2\n",
              "4                                 Watchmen   2.0            1            7.6\n",
              "5   Harry Potter and the Half-Blood Prince   1.0            1            7.6\n",
              "6                                Get Smart   1.0            2            6.5\n",
              "7                          Superhero Movie   2.0            2            4.5\n",
              "8                              Role Models   2.0            2            6.8\n",
              "9                              Daybreakers   2.0            2            6.4\n",
              "10                             Toy Story 3   1.0            1            8.3\n",
              "11                    Terminator Salvation   1.0            2            6.5\n",
              "12                           Kung Fu Panda   1.0            2            7.5\n",
              "13                                 Lincoln   1.0            2            7.3\n",
              "14                           Vantage Point   1.0            2            6.6\n",
              "15                               10,000 BC   2.0            2            5.1\n",
              "16                                 Shazam!   1.0            2            7.1\n",
              "17                                 Hancock   2.0            2            6.4\n",
              "18                            Jodhaa Akbar   2.0            1            7.6\n",
              "19                            Wonder Woman   2.0            2            7.4"
            ]
          },
          "metadata": {
            "tags": []
          },
          "execution_count": 13
        }
      ]
    },
    {
      "cell_type": "code",
      "metadata": {
        "id": "71S59s9RRdaF",
        "outputId": "068a6db3-2c5d-4366-92d2-990dc2de6456",
        "colab": {
          "base_uri": "https://localhost:8080/",
          "height": 35
        }
      },
      "source": [
        "accuracy = correct_predictions/df_combined.shape[0]\n",
        "print (\"Baseline model accuracy\",accuracy)"
      ],
      "execution_count": 14,
      "outputs": [
        {
          "output_type": "stream",
          "text": [
            "Baseline model accuracy 0.5923076923076923\n"
          ],
          "name": "stdout"
        }
      ]
    },
    {
      "cell_type": "markdown",
      "metadata": {
        "id": "ODl_TVq973g-"
      },
      "source": [
        "Our baseline rule-based model produced an accuracy of 59% which is not that great. We now try to further optimize this rather simple model."
      ]
    },
    {
      "cell_type": "markdown",
      "metadata": {
        "id": "6KqDFEWiLOow"
      },
      "source": [
        "# 5. Model Optimization"
      ]
    },
    {
      "cell_type": "code",
      "metadata": {
        "id": "jw5nJ-ApTq26"
      },
      "source": [
        "#Function to calculate model accuracy for the given threshold\n",
        "def rating_threshold(df,threshold):\n",
        "  df['high_rating'] = (df['averageRating']>threshold).map(int)\n",
        "  df['high_rating'] = df['high_rating'].replace(0,2)\n",
        "  correct_predictions = (df['high_rating']==df['Like']).map(int).sum()\n",
        "  accuracy = correct_predictions/df.shape[0]\n",
        "  return accuracy"
      ],
      "execution_count": 15,
      "outputs": []
    },
    {
      "cell_type": "code",
      "metadata": {
        "id": "CRzoul26VNWd"
      },
      "source": [
        "#Collecting all the accuracy values for the various thresholds into a list\n",
        "acc = []\n",
        "for i in np.linspace(4,7.5,36):\n",
        "  acc.append(rating_threshold(df_combined[['primaryTitle','Like','high_rating','averageRating']],i))"
      ],
      "execution_count": 16,
      "outputs": []
    },
    {
      "cell_type": "code",
      "metadata": {
        "id": "_EWNwoi-WHbH",
        "outputId": "eb3af818-24db-4ed6-866d-1e774e8601dd",
        "colab": {
          "base_uri": "https://localhost:8080/",
          "height": 405
        }
      },
      "source": [
        "#Plotting the accuracy values across thresholds\n",
        "plt.figure(figsize=(18,6))\n",
        "plt.plot(np.linspace(4,7.5,36),acc,marker='o',alpha=0.7)\n",
        "plt.xlabel('Threshold')\n",
        "plt.ylabel('Accuracy')"
      ],
      "execution_count": 17,
      "outputs": [
        {
          "output_type": "execute_result",
          "data": {
            "text/plain": [
              "Text(0, 0.5, 'Accuracy')"
            ]
          },
          "metadata": {
            "tags": []
          },
          "execution_count": 17
        },
        {
          "output_type": "display_data",
          "data": {
            "image/png": "[encoded data removed]",
            "text/plain": [
              "<Figure size 1296x432 with 1 Axes>"
            ]
          },
          "metadata": {
            "tags": [],
            "needs_background": "light"
          }
        }
      ]
    },
    {
      "cell_type": "markdown",
      "metadata": {
        "id": "x1nu0IlG-WPh"
      },
      "source": [
        "From the above plot, we can see that as the threshold for deciding whether a movie is good or not is increased, the accuracy of the model goes down which is expected. \n",
        "\n",
        "Since we are trying to predict what movies I'll like, we need to find the optimal threshold to create a variable that more accuractely predicts the likes and dislikes. \n",
        "\n",
        "To truly understand the chart above, we need to think about **overfitting** and **underfitting**. \n",
        "\n",
        "If we set our threshold to 4, essentially all movies are going to be labeled as 'like', in which case we are most likely to get an accuracy which is essentially equal to the proportion of movies that I liked. That fraction is 80/130 which is 0.615. And that is exactly what we see in the plot. \n",
        "\n",
        "As the threshold increases, we start more accurately predicting the disliked movies so our overall accuracy increases. This basically means that our true negatives increase without reducing the true positives. \n",
        "\n",
        "We reach the **best accuracy score of 0.75 at a threshold of 6.4** giving us the best tradeoff between bias and variance. If we further increase the threshold after that, we would still accurately predict the disliked movies but we would wrongly predict the liked movies, so our true positives would decrease and false negatives would increase. \n",
        "\n",
        "For practical purposes, we **choose a threshold of 7.1** as that is generally a better value than 6.4 to separate good from bad movies while keeping the accuracy at a respectable 70%. "
      ]
    },
    {
      "cell_type": "markdown",
      "metadata": {
        "id": "5ofAimNiLQnA"
      },
      "source": [
        "# 6. More EDA"
      ]
    },
    {
      "cell_type": "markdown",
      "metadata": {
        "id": "8MZ2YtgvNeXo"
      },
      "source": [
        "### 6.1 Rating"
      ]
    },
    {
      "cell_type": "code",
      "metadata": {
        "id": "xegnAuARYmFa",
        "outputId": "89037e97-c088-46c0-f4fb-7ad44ccaac1f",
        "colab": {
          "base_uri": "https://localhost:8080/",
          "height": 291
        }
      },
      "source": [
        "#Creating a variable that sets a boolean for rating above 7.1\n",
        "df_combined['high_rating_7p1'] = (df_combined['averageRating']>7.1).map(int)\n",
        "df_combined['high_rating_7p1'] = df_combined['high_rating_7p1'].replace(0,2)\n",
        "df_combined.head()"
      ],
      "execution_count": 18,
      "outputs": [
        {
          "output_type": "execute_result",
          "data": {
            "text/html": [
              "<div>\n",
              "<style scoped>\n",
              "    .dataframe tbody tr th:only-of-type {\n",
              "        vertical-align: middle;\n",
              "    }\n",
              "\n",
              "    .dataframe tbody tr th {\n",
              "        vertical-align: top;\n",
              "    }\n",
              "\n",
              "    .dataframe thead th {\n",
              "        text-align: right;\n",
              "    }\n",
              "</style>\n",
              "<table border=\"1\" class=\"dataframe\">\n",
              "  <thead>\n",
              "    <tr style=\"text-align: right;\">\n",
              "      <th></th>\n",
              "      <th>tconst</th>\n",
              "      <th>averageRating</th>\n",
              "      <th>numVotes</th>\n",
              "      <th>titleType</th>\n",
              "      <th>primaryTitle</th>\n",
              "      <th>Like</th>\n",
              "      <th>isAdult</th>\n",
              "      <th>startYear</th>\n",
              "      <th>runtimeMinutes</th>\n",
              "      <th>genres</th>\n",
              "      <th>high_rating</th>\n",
              "      <th>high_rating_7p1</th>\n",
              "    </tr>\n",
              "  </thead>\n",
              "  <tbody>\n",
              "    <tr>\n",
              "      <th>0</th>\n",
              "      <td>tt0361748</td>\n",
              "      <td>8.3</td>\n",
              "      <td>1222518</td>\n",
              "      <td>movie</td>\n",
              "      <td>Inglourious Basterds</td>\n",
              "      <td>1.0</td>\n",
              "      <td>0</td>\n",
              "      <td>2009</td>\n",
              "      <td>153</td>\n",
              "      <td>Adventure,Drama,War</td>\n",
              "      <td>1</td>\n",
              "      <td>1</td>\n",
              "    </tr>\n",
              "    <tr>\n",
              "      <th>1</th>\n",
              "      <td>tt0364970</td>\n",
              "      <td>5.6</td>\n",
              "      <td>92368</td>\n",
              "      <td>movie</td>\n",
              "      <td>Babylon A.D.</td>\n",
              "      <td>2.0</td>\n",
              "      <td>0</td>\n",
              "      <td>2008</td>\n",
              "      <td>90</td>\n",
              "      <td>Action,Adventure,Sci-Fi</td>\n",
              "      <td>2</td>\n",
              "      <td>2</td>\n",
              "    </tr>\n",
              "    <tr>\n",
              "      <th>2</th>\n",
              "      <td>tt0371746</td>\n",
              "      <td>7.9</td>\n",
              "      <td>917136</td>\n",
              "      <td>movie</td>\n",
              "      <td>Iron Man</td>\n",
              "      <td>1.0</td>\n",
              "      <td>0</td>\n",
              "      <td>2008</td>\n",
              "      <td>126</td>\n",
              "      <td>Action,Adventure,Sci-Fi</td>\n",
              "      <td>1</td>\n",
              "      <td>1</td>\n",
              "    </tr>\n",
              "    <tr>\n",
              "      <th>3</th>\n",
              "      <td>tt0376136</td>\n",
              "      <td>6.2</td>\n",
              "      <td>97574</td>\n",
              "      <td>movie</td>\n",
              "      <td>The Rum Diary</td>\n",
              "      <td>2.0</td>\n",
              "      <td>0</td>\n",
              "      <td>2011</td>\n",
              "      <td>119</td>\n",
              "      <td>Comedy,Drama</td>\n",
              "      <td>2</td>\n",
              "      <td>2</td>\n",
              "    </tr>\n",
              "    <tr>\n",
              "      <th>4</th>\n",
              "      <td>tt0409459</td>\n",
              "      <td>7.6</td>\n",
              "      <td>488627</td>\n",
              "      <td>movie</td>\n",
              "      <td>Watchmen</td>\n",
              "      <td>2.0</td>\n",
              "      <td>0</td>\n",
              "      <td>2009</td>\n",
              "      <td>162</td>\n",
              "      <td>Action,Drama,Mystery</td>\n",
              "      <td>1</td>\n",
              "      <td>1</td>\n",
              "    </tr>\n",
              "  </tbody>\n",
              "</table>\n",
              "</div>"
            ],
            "text/plain": [
              "      tconst  averageRating  ...  high_rating high_rating_7p1\n",
              "0  tt0361748            8.3  ...            1               1\n",
              "1  tt0364970            5.6  ...            2               2\n",
              "2  tt0371746            7.9  ...            1               1\n",
              "3  tt0376136            6.2  ...            2               2\n",
              "4  tt0409459            7.6  ...            1               1\n",
              "\n",
              "[5 rows x 12 columns]"
            ]
          },
          "metadata": {
            "tags": []
          },
          "execution_count": 18
        }
      ]
    },
    {
      "cell_type": "code",
      "metadata": {
        "id": "-KWtix3rdpQr",
        "outputId": "17abe2c3-1cc9-413e-90b4-21dc7c19b00f",
        "colab": {
          "base_uri": "https://localhost:8080/",
          "height": 639
        }
      },
      "source": [
        "#Visualizing predictions for thresholds of 7.5 and 7.1\n",
        "plt.figure(figsize=(18,10))\n",
        "plt.subplot(2,1,1)\n",
        "sns.stripplot(data=df_combined,x='averageRating',y='Like',hue='high_rating')\n",
        "plt.title(\"True and false predictions across actual predictions for rating threshold of 7.5\")\n",
        "plt.subplot(2,1,2)\n",
        "sns.stripplot(data=df_combined,x='averageRating',y='Like',hue='high_rating_7p1')\n",
        "plt.title(\"True and false predictions across actual predictions for rating threshold of 7.1\")"
      ],
      "execution_count": 19,
      "outputs": [
        {
          "output_type": "execute_result",
          "data": {
            "text/plain": [
              "Text(0.5, 1.0, 'True and false predictions across actual predictions for rating threshold of 7.1')"
            ]
          },
          "metadata": {
            "tags": []
          },
          "execution_count": 19
        },
        {
          "output_type": "display_data",
          "data": {
            "image/png": "[encoded data removed]",
            "text/plain": [
              "<Figure size 1296x720 with 2 Axes>"
            ]
          },
          "metadata": {
            "tags": [],
            "needs_background": "light"
          }
        }
      ]
    },
    {
      "cell_type": "markdown",
      "metadata": {
        "id": "6rbIHmJpFcFk"
      },
      "source": [
        "The above plot explains the difference between the 7.5 and 7.1 a little further. The x-axis is the actual like and dislike values whereas the legend shows the predicted values. \n",
        "- **Threshold of 7.5**: Predicting disliked movies better but not predicting liked movies that well. More true negatives but also more false negatives. \n",
        "- **Threshold of 7.1**: Predicting liked movies better but compromising on disliked movies. More true positives but also more false positives. "
      ]
    },
    {
      "cell_type": "markdown",
      "metadata": {
        "id": "GwmsqkPsLTZc"
      },
      "source": [
        "### 6.2 Run time"
      ]
    },
    {
      "cell_type": "code",
      "metadata": {
        "id": "Z_-uZajxLeWQ",
        "outputId": "376046a1-c909-42a5-dfc0-58b7ac9b3b22",
        "colab": {
          "base_uri": "https://localhost:8080/",
          "height": 291
        }
      },
      "source": [
        "df_combined.head()"
      ],
      "execution_count": null,
      "outputs": [
        {
          "output_type": "execute_result",
          "data": {
            "text/html": [
              "<div>\n",
              "<style scoped>\n",
              "    .dataframe tbody tr th:only-of-type {\n",
              "        vertical-align: middle;\n",
              "    }\n",
              "\n",
              "    .dataframe tbody tr th {\n",
              "        vertical-align: top;\n",
              "    }\n",
              "\n",
              "    .dataframe thead th {\n",
              "        text-align: right;\n",
              "    }\n",
              "</style>\n",
              "<table border=\"1\" class=\"dataframe\">\n",
              "  <thead>\n",
              "    <tr style=\"text-align: right;\">\n",
              "      <th></th>\n",
              "      <th>tconst</th>\n",
              "      <th>averageRating</th>\n",
              "      <th>numVotes</th>\n",
              "      <th>titleType</th>\n",
              "      <th>primaryTitle</th>\n",
              "      <th>Like</th>\n",
              "      <th>isAdult</th>\n",
              "      <th>startYear</th>\n",
              "      <th>runtimeMinutes</th>\n",
              "      <th>genres</th>\n",
              "      <th>high_rating</th>\n",
              "      <th>high_rating_7p1</th>\n",
              "    </tr>\n",
              "  </thead>\n",
              "  <tbody>\n",
              "    <tr>\n",
              "      <th>0</th>\n",
              "      <td>tt0361748</td>\n",
              "      <td>8.3</td>\n",
              "      <td>1222518</td>\n",
              "      <td>movie</td>\n",
              "      <td>Inglourious Basterds</td>\n",
              "      <td>1.0</td>\n",
              "      <td>0</td>\n",
              "      <td>2009</td>\n",
              "      <td>153</td>\n",
              "      <td>Adventure,Drama,War</td>\n",
              "      <td>1</td>\n",
              "      <td>1</td>\n",
              "    </tr>\n",
              "    <tr>\n",
              "      <th>1</th>\n",
              "      <td>tt0364970</td>\n",
              "      <td>5.6</td>\n",
              "      <td>92368</td>\n",
              "      <td>movie</td>\n",
              "      <td>Babylon A.D.</td>\n",
              "      <td>2.0</td>\n",
              "      <td>0</td>\n",
              "      <td>2008</td>\n",
              "      <td>90</td>\n",
              "      <td>Action,Adventure,Sci-Fi</td>\n",
              "      <td>2</td>\n",
              "      <td>2</td>\n",
              "    </tr>\n",
              "    <tr>\n",
              "      <th>2</th>\n",
              "      <td>tt0371746</td>\n",
              "      <td>7.9</td>\n",
              "      <td>917136</td>\n",
              "      <td>movie</td>\n",
              "      <td>Iron Man</td>\n",
              "      <td>1.0</td>\n",
              "      <td>0</td>\n",
              "      <td>2008</td>\n",
              "      <td>126</td>\n",
              "      <td>Action,Adventure,Sci-Fi</td>\n",
              "      <td>1</td>\n",
              "      <td>1</td>\n",
              "    </tr>\n",
              "    <tr>\n",
              "      <th>3</th>\n",
              "      <td>tt0376136</td>\n",
              "      <td>6.2</td>\n",
              "      <td>97574</td>\n",
              "      <td>movie</td>\n",
              "      <td>The Rum Diary</td>\n",
              "      <td>2.0</td>\n",
              "      <td>0</td>\n",
              "      <td>2011</td>\n",
              "      <td>119</td>\n",
              "      <td>Comedy,Drama</td>\n",
              "      <td>2</td>\n",
              "      <td>2</td>\n",
              "    </tr>\n",
              "    <tr>\n",
              "      <th>4</th>\n",
              "      <td>tt0409459</td>\n",
              "      <td>7.6</td>\n",
              "      <td>488627</td>\n",
              "      <td>movie</td>\n",
              "      <td>Watchmen</td>\n",
              "      <td>2.0</td>\n",
              "      <td>0</td>\n",
              "      <td>2009</td>\n",
              "      <td>162</td>\n",
              "      <td>Action,Drama,Mystery</td>\n",
              "      <td>1</td>\n",
              "      <td>1</td>\n",
              "    </tr>\n",
              "  </tbody>\n",
              "</table>\n",
              "</div>"
            ],
            "text/plain": [
              "      tconst  averageRating  ...  high_rating high_rating_7p1\n",
              "0  tt0361748            8.3  ...            1               1\n",
              "1  tt0364970            5.6  ...            2               2\n",
              "2  tt0371746            7.9  ...            1               1\n",
              "3  tt0376136            6.2  ...            2               2\n",
              "4  tt0409459            7.6  ...            1               1\n",
              "\n",
              "[5 rows x 12 columns]"
            ]
          },
          "metadata": {
            "tags": []
          },
          "execution_count": 22
        }
      ]
    },
    {
      "cell_type": "code",
      "metadata": {
        "id": "buRoiggzLtTI",
        "outputId": "b82999b0-49a7-4142-891e-43366b40577a",
        "colab": {
          "base_uri": "https://localhost:8080/",
          "height": 436
        }
      },
      "source": [
        "plt.figure(figsize=(16,6))\n",
        "df_combined['runtimeMinutes'] = df_combined['runtimeMinutes'].replace('\\\\N','0')\n",
        "df_combined['runtimeMinutes'] = df_combined['runtimeMinutes'].map(int)\n",
        "sns.lmplot(data=df_combined,x='runtimeMinutes',y='averageRating',hue='high_rating_7p1',fit_reg=True)\n",
        "plt.title(\"Plot of rating vs runtime distinguishing movies rated higher than 7.1\",size=15)"
      ],
      "execution_count": 23,
      "outputs": [
        {
          "output_type": "execute_result",
          "data": {
            "text/plain": [
              "Text(0.5, 1.0, 'Plot of rating vs runtime distinguishing movies rated higher than 7.1')"
            ]
          },
          "metadata": {
            "tags": []
          },
          "execution_count": 23
        },
        {
          "output_type": "display_data",
          "data": {
            "text/plain": [
              "<Figure size 1152x432 with 0 Axes>"
            ]
          },
          "metadata": {
            "tags": []
          }
        },
        {
          "output_type": "display_data",
          "data": {
            "image/png": "[encoded data removed]",
            "text/plain": [
              "<Figure size 448.75x360 with 1 Axes>"
            ]
          },
          "metadata": {
            "tags": [],
            "needs_background": "light"
          }
        }
      ]
    },
    {
      "cell_type": "code",
      "metadata": {
        "id": "Hvibhtdw_aLR",
        "outputId": "080fa30c-31cb-416e-e8ef-f6c6a0d07f5f",
        "colab": {
          "base_uri": "https://localhost:8080/",
          "height": 401
        }
      },
      "source": [
        "sns.lmplot(data=df_combined,x='runtimeMinutes',y='averageRating',fit_reg=True)"
      ],
      "execution_count": 24,
      "outputs": [
        {
          "output_type": "execute_result",
          "data": {
            "text/plain": [
              "<seaborn.axisgrid.FacetGrid at 0x7fcd6bba8c88>"
            ]
          },
          "metadata": {
            "tags": []
          },
          "execution_count": 24
        },
        {
          "output_type": "display_data",
          "data": {
            "image/png": "[encoded data removed]",
            "text/plain": [
              "<Figure size 360x360 with 1 Axes>"
            ]
          },
          "metadata": {
            "tags": [],
            "needs_background": "light"
          }
        }
      ]
    },
    {
      "cell_type": "code",
      "metadata": {
        "id": "68wUl1fFj3wg",
        "outputId": "e2346efe-9a2e-4b2e-bfc2-69f0b19c1b58",
        "colab": {
          "base_uri": "https://localhost:8080/",
          "height": 52
        }
      },
      "source": [
        "np.corrcoef(df_combined['averageRating'],df_combined['runtimeMinutes'])"
      ],
      "execution_count": 25,
      "outputs": [
        {
          "output_type": "execute_result",
          "data": {
            "text/plain": [
              "array([[1.        , 0.56400846],\n",
              "       [0.56400846, 1.        ]])"
            ]
          },
          "metadata": {
            "tags": []
          },
          "execution_count": 25
        }
      ]
    },
    {
      "cell_type": "markdown",
      "metadata": {
        "id": "IKS1Zk_ifeaS"
      },
      "source": [
        "Above, we see that there is a weak relation between runtime and average rating. "
      ]
    },
    {
      "cell_type": "code",
      "metadata": {
        "id": "1bylD-FX7wsX",
        "outputId": "9a91eb0d-f7a6-483a-ac47-323698fea75b",
        "colab": {
          "base_uri": "https://localhost:8080/",
          "height": 297
        }
      },
      "source": [
        "sns.boxplot(data=df_combined,y='runtimeMinutes',x='Like')"
      ],
      "execution_count": null,
      "outputs": [
        {
          "output_type": "execute_result",
          "data": {
            "text/plain": [
              "<matplotlib.axes._subplots.AxesSubplot at 0x7f39df5908d0>"
            ]
          },
          "metadata": {
            "tags": []
          },
          "execution_count": 27
        },
        {
          "output_type": "display_data",
          "data": {
            "image/png": "[encoded data removed]",
            "text/plain": [
              "<Figure size 432x288 with 1 Axes>"
            ]
          },
          "metadata": {
            "tags": [],
            "needs_background": "light"
          }
        }
      ]
    },
    {
      "cell_type": "code",
      "metadata": {
        "id": "qYaiS4Oq9P4B",
        "outputId": "5979536a-edeb-43b2-8502-555d6540bfdb",
        "colab": {
          "base_uri": "https://localhost:8080/",
          "height": 52
        }
      },
      "source": [
        "np.corrcoef(df_combined['Like'],df_combined['runtimeMinutes'])"
      ],
      "execution_count": null,
      "outputs": [
        {
          "output_type": "execute_result",
          "data": {
            "text/plain": [
              "array([[ 1.        , -0.06462848],\n",
              "       [-0.06462848,  1.        ]])"
            ]
          },
          "metadata": {
            "tags": []
          },
          "execution_count": 28
        }
      ]
    },
    {
      "cell_type": "code",
      "metadata": {
        "id": "f6mHJNrsgTAH",
        "outputId": "6c559972-0581-4f0a-f4a3-fdfff7263533",
        "colab": {
          "base_uri": "https://localhost:8080/",
          "height": 171
        }
      },
      "source": [
        "df_combined[['runtimeMinutes','Like']].groupby('Like').agg(['mean','median'])"
      ],
      "execution_count": 32,
      "outputs": [
        {
          "output_type": "execute_result",
          "data": {
            "text/html": [
              "<div>\n",
              "<style scoped>\n",
              "    .dataframe tbody tr th:only-of-type {\n",
              "        vertical-align: middle;\n",
              "    }\n",
              "\n",
              "    .dataframe tbody tr th {\n",
              "        vertical-align: top;\n",
              "    }\n",
              "\n",
              "    .dataframe thead tr th {\n",
              "        text-align: left;\n",
              "    }\n",
              "\n",
              "    .dataframe thead tr:last-of-type th {\n",
              "        text-align: right;\n",
              "    }\n",
              "</style>\n",
              "<table border=\"1\" class=\"dataframe\">\n",
              "  <thead>\n",
              "    <tr>\n",
              "      <th></th>\n",
              "      <th colspan=\"2\" halign=\"left\">runtimeMinutes</th>\n",
              "    </tr>\n",
              "    <tr>\n",
              "      <th></th>\n",
              "      <th>mean</th>\n",
              "      <th>median</th>\n",
              "    </tr>\n",
              "    <tr>\n",
              "      <th>Like</th>\n",
              "      <th></th>\n",
              "      <th></th>\n",
              "    </tr>\n",
              "  </thead>\n",
              "  <tbody>\n",
              "    <tr>\n",
              "      <th>1.0</th>\n",
              "      <td>119.303797</td>\n",
              "      <td>115</td>\n",
              "    </tr>\n",
              "    <tr>\n",
              "      <th>2.0</th>\n",
              "      <td>116.020000</td>\n",
              "      <td>107</td>\n",
              "    </tr>\n",
              "  </tbody>\n",
              "</table>\n",
              "</div>"
            ],
            "text/plain": [
              "     runtimeMinutes       \n",
              "               mean median\n",
              "Like                      \n",
              "1.0      119.303797    115\n",
              "2.0      116.020000    107"
            ]
          },
          "metadata": {
            "tags": []
          },
          "execution_count": 32
        }
      ]
    },
    {
      "cell_type": "markdown",
      "metadata": {
        "id": "mOuVER-EgEhq"
      },
      "source": [
        "To see whether runtime can explain the difference between liked and disliked movies, we created a boxplot above. \n",
        "\n",
        "The boxplot shows a slightly higher median for liked movies. To be exact, the median for liked and disliked movies are 115 and 107 respectively. We could check whether this difference is statistically significant but that will be covered in a later revision of the project. For now, we will include the variable in our base model."
      ]
    },
    {
      "cell_type": "markdown",
      "metadata": {
        "id": "K_7zWtraLWuO"
      },
      "source": [
        "### 6.3 PG rating"
      ]
    },
    {
      "cell_type": "code",
      "metadata": {
        "id": "CeiSEY3XAy8O",
        "outputId": "a1f1a548-ea2a-4dfd-c929-203e02a5eb63",
        "colab": {
          "base_uri": "https://localhost:8080/",
          "height": 52
        }
      },
      "source": [
        "df_combined['isAdult'].value_counts()"
      ],
      "execution_count": null,
      "outputs": [
        {
          "output_type": "execute_result",
          "data": {
            "text/plain": [
              "0    129\n",
              "Name: isAdult, dtype: int64"
            ]
          },
          "metadata": {
            "tags": []
          },
          "execution_count": 29
        }
      ]
    },
    {
      "cell_type": "code",
      "metadata": {
        "id": "vY8i5DkbXHzd",
        "outputId": "506cfb35-9e53-4c24-cb0f-e36a45c46720",
        "colab": {
          "base_uri": "https://localhost:8080/",
          "height": 297
        }
      },
      "source": [
        "sns.boxplot(data=df_combined,x='isAdult',y='Like')"
      ],
      "execution_count": null,
      "outputs": [
        {
          "output_type": "execute_result",
          "data": {
            "text/plain": [
              "<matplotlib.axes._subplots.AxesSubplot at 0x7f39df57ae10>"
            ]
          },
          "metadata": {
            "tags": []
          },
          "execution_count": 30
        },
        {
          "output_type": "display_data",
          "data": {
            "image/png": "[encoded data removed]",
            "text/plain": [
              "<Figure size 432x288 with 1 Axes>"
            ]
          },
          "metadata": {
            "tags": [],
            "needs_background": "light"
          }
        }
      ]
    },
    {
      "cell_type": "markdown",
      "metadata": {
        "id": "zfxzc7Qlvtbn"
      },
      "source": [
        "There appears to be only one *PG rating* - 0. Hence this variable is not informative at all for our purposes. "
      ]
    },
    {
      "cell_type": "markdown",
      "metadata": {
        "id": "TZBCtrCZAmxv"
      },
      "source": [
        "### 6.4 Number of Votes"
      ]
    },
    {
      "cell_type": "code",
      "metadata": {
        "id": "a-rR7RBVEJZe",
        "outputId": "98b997e2-1524-44b5-a281-11327fb74bfe",
        "colab": {
          "base_uri": "https://localhost:8080/",
          "height": 171
        }
      },
      "source": [
        "df_combined[['numVotes','Like']].groupby(['Like']).agg(['count','sum','median','mean','std'])"
      ],
      "execution_count": null,
      "outputs": [
        {
          "output_type": "execute_result",
          "data": {
            "text/html": [
              "<div>\n",
              "<style scoped>\n",
              "    .dataframe tbody tr th:only-of-type {\n",
              "        vertical-align: middle;\n",
              "    }\n",
              "\n",
              "    .dataframe tbody tr th {\n",
              "        vertical-align: top;\n",
              "    }\n",
              "\n",
              "    .dataframe thead tr th {\n",
              "        text-align: left;\n",
              "    }\n",
              "\n",
              "    .dataframe thead tr:last-of-type th {\n",
              "        text-align: right;\n",
              "    }\n",
              "</style>\n",
              "<table border=\"1\" class=\"dataframe\">\n",
              "  <thead>\n",
              "    <tr>\n",
              "      <th></th>\n",
              "      <th colspan=\"5\" halign=\"left\">numVotes</th>\n",
              "    </tr>\n",
              "    <tr>\n",
              "      <th></th>\n",
              "      <th>count</th>\n",
              "      <th>sum</th>\n",
              "      <th>median</th>\n",
              "      <th>mean</th>\n",
              "      <th>std</th>\n",
              "    </tr>\n",
              "    <tr>\n",
              "      <th>Like</th>\n",
              "      <th></th>\n",
              "      <th></th>\n",
              "      <th></th>\n",
              "      <th></th>\n",
              "      <th></th>\n",
              "    </tr>\n",
              "  </thead>\n",
              "  <tbody>\n",
              "    <tr>\n",
              "      <th>1.0</th>\n",
              "      <td>79</td>\n",
              "      <td>35879912</td>\n",
              "      <td>328992</td>\n",
              "      <td>454176.101266</td>\n",
              "      <td>428823.806155</td>\n",
              "    </tr>\n",
              "    <tr>\n",
              "      <th>2.0</th>\n",
              "      <td>50</td>\n",
              "      <td>10476664</td>\n",
              "      <td>129761</td>\n",
              "      <td>209533.280000</td>\n",
              "      <td>186067.351210</td>\n",
              "    </tr>\n",
              "  </tbody>\n",
              "</table>\n",
              "</div>"
            ],
            "text/plain": [
              "     numVotes                                                \n",
              "        count       sum  median           mean            std\n",
              "Like                                                         \n",
              "1.0        79  35879912  328992  454176.101266  428823.806155\n",
              "2.0        50  10476664  129761  209533.280000  186067.351210"
            ]
          },
          "metadata": {
            "tags": []
          },
          "execution_count": 31
        }
      ]
    },
    {
      "cell_type": "code",
      "metadata": {
        "id": "X7NYFOx2FpbB",
        "outputId": "5383dd88-6e27-4204-822e-0e96e525184e",
        "colab": {
          "base_uri": "https://localhost:8080/",
          "height": 307
        }
      },
      "source": [
        "sns.boxplot(data=df_combined,y='numVotes',x='Like')"
      ],
      "execution_count": null,
      "outputs": [
        {
          "output_type": "execute_result",
          "data": {
            "text/plain": [
              "<matplotlib.axes._subplots.AxesSubplot at 0x7f39df4d30b8>"
            ]
          },
          "metadata": {
            "tags": []
          },
          "execution_count": 32
        },
        {
          "output_type": "display_data",
          "data": {
            "image/png": "[encoded data removed]",
            "text/plain": [
              "<Figure size 432x288 with 1 Axes>"
            ]
          },
          "metadata": {
            "tags": [],
            "needs_background": "light"
          }
        }
      ]
    },
    {
      "cell_type": "code",
      "metadata": {
        "id": "wRk6DcufsN9E",
        "outputId": "d59d5a4e-c911-4938-9121-b35bb8db88cd",
        "colab": {
          "base_uri": "https://localhost:8080/",
          "height": 415
        }
      },
      "source": [
        "df_like_1 = df_combined[df_combined['Like']==1.0]\n",
        "df_like_2 = df_combined[df_combined['Like']==2.0]\n",
        "df_like_1_votes_pdf = st.norm.pdf(df_like_1['numVotes'],np.mean(df_like_1['numVotes']),np.std(df_like_1['numVotes']))\n",
        "df_like_2_votes_pdf = st.norm.pdf(df_like_2['numVotes'],np.mean(df_like_2['numVotes']),np.std(df_like_2['numVotes']))\n",
        "\n",
        "plt.figure(figsize=(18,6))\n",
        "plt.scatter(df_like_1['numVotes'],df_like_1_votes_pdf,label='Like: 1')\n",
        "plt.scatter(df_like_2['numVotes'],df_like_2_votes_pdf,label='Like: 2')\n",
        "plt.legend()"
      ],
      "execution_count": null,
      "outputs": [
        {
          "output_type": "execute_result",
          "data": {
            "text/plain": [
              "<matplotlib.legend.Legend at 0x7f39df414d30>"
            ]
          },
          "metadata": {
            "tags": []
          },
          "execution_count": 33
        },
        {
          "output_type": "display_data",
          "data": {
            "image/png": "[encoded data removed]",
            "text/plain": [
              "<Figure size 1296x432 with 1 Axes>"
            ]
          },
          "metadata": {
            "tags": [],
            "needs_background": "light"
          }
        }
      ]
    },
    {
      "cell_type": "markdown",
      "metadata": {
        "id": "bGvTOcdfh7rj"
      },
      "source": [
        "From the boxplot and probability density curves, it is clear that there is a slightly more clear correlation between the number of votes and the liked movies. \n",
        "\n",
        "Below, we explore the number of votes and average rating variables to see if there is a systematic correlation. "
      ]
    },
    {
      "cell_type": "code",
      "metadata": {
        "id": "n7YgHNpdA-pZ",
        "outputId": "76d014f5-d9d5-4ab7-c969-d33d8b920d63",
        "colab": {
          "base_uri": "https://localhost:8080/",
          "height": 387
        }
      },
      "source": [
        "sns.lmplot(data=df_combined,x='numVotes',y='averageRating',fit_reg=False)"
      ],
      "execution_count": null,
      "outputs": [
        {
          "output_type": "execute_result",
          "data": {
            "text/plain": [
              "<seaborn.axisgrid.FacetGrid at 0x7f39df450cf8>"
            ]
          },
          "metadata": {
            "tags": []
          },
          "execution_count": 34
        },
        {
          "output_type": "display_data",
          "data": {
            "image/png": "[encoded data removed]",
            "text/plain": [
              "<Figure size 360x360 with 1 Axes>"
            ]
          },
          "metadata": {
            "tags": [],
            "needs_background": "light"
          }
        }
      ]
    },
    {
      "cell_type": "code",
      "metadata": {
        "id": "a7pFEOzgBJSp",
        "outputId": "aa53e4bd-c347-4d49-c19c-39c4a45e39e3",
        "colab": {
          "base_uri": "https://localhost:8080/",
          "height": 52
        }
      },
      "source": [
        "np.corrcoef(df_combined['numVotes'],df_combined['averageRating'])"
      ],
      "execution_count": null,
      "outputs": [
        {
          "output_type": "execute_result",
          "data": {
            "text/plain": [
              "array([[1.        , 0.63229244],\n",
              "       [0.63229244, 1.        ]])"
            ]
          },
          "metadata": {
            "tags": []
          },
          "execution_count": 35
        }
      ]
    },
    {
      "cell_type": "markdown",
      "metadata": {
        "id": "URoLGj65iVi_"
      },
      "source": [
        "There appears to be a medium correlation between number of votes and average rating. It is possible that people are more exited to rate movies if they really liked it so that could lead to a bias when comparing votes and ratings. \n",
        "\n",
        "For now, we will also include this variable in our base model."
      ]
    },
    {
      "cell_type": "code",
      "metadata": {
        "id": "Tyi37w6bBUgO",
        "outputId": "6d65c273-8a3d-4519-cd6f-ea313392ff5d",
        "colab": {
          "base_uri": "https://localhost:8080/",
          "height": 291
        }
      },
      "source": [
        "df_combined.head()"
      ],
      "execution_count": null,
      "outputs": [
        {
          "output_type": "execute_result",
          "data": {
            "text/html": [
              "<div>\n",
              "<style scoped>\n",
              "    .dataframe tbody tr th:only-of-type {\n",
              "        vertical-align: middle;\n",
              "    }\n",
              "\n",
              "    .dataframe tbody tr th {\n",
              "        vertical-align: top;\n",
              "    }\n",
              "\n",
              "    .dataframe thead th {\n",
              "        text-align: right;\n",
              "    }\n",
              "</style>\n",
              "<table border=\"1\" class=\"dataframe\">\n",
              "  <thead>\n",
              "    <tr style=\"text-align: right;\">\n",
              "      <th></th>\n",
              "      <th>tconst</th>\n",
              "      <th>averageRating</th>\n",
              "      <th>numVotes</th>\n",
              "      <th>titleType</th>\n",
              "      <th>primaryTitle</th>\n",
              "      <th>Like</th>\n",
              "      <th>isAdult</th>\n",
              "      <th>startYear</th>\n",
              "      <th>runtimeMinutes</th>\n",
              "      <th>genres</th>\n",
              "      <th>high_rating</th>\n",
              "      <th>high_rating_7p1</th>\n",
              "    </tr>\n",
              "  </thead>\n",
              "  <tbody>\n",
              "    <tr>\n",
              "      <th>0</th>\n",
              "      <td>tt0361748</td>\n",
              "      <td>8.3</td>\n",
              "      <td>1222518</td>\n",
              "      <td>movie</td>\n",
              "      <td>Inglourious Basterds</td>\n",
              "      <td>1.0</td>\n",
              "      <td>0</td>\n",
              "      <td>2009</td>\n",
              "      <td>153</td>\n",
              "      <td>Adventure,Drama,War</td>\n",
              "      <td>1</td>\n",
              "      <td>1</td>\n",
              "    </tr>\n",
              "    <tr>\n",
              "      <th>1</th>\n",
              "      <td>tt0364970</td>\n",
              "      <td>5.6</td>\n",
              "      <td>92368</td>\n",
              "      <td>movie</td>\n",
              "      <td>Babylon A.D.</td>\n",
              "      <td>2.0</td>\n",
              "      <td>0</td>\n",
              "      <td>2008</td>\n",
              "      <td>90</td>\n",
              "      <td>Action,Adventure,Sci-Fi</td>\n",
              "      <td>2</td>\n",
              "      <td>2</td>\n",
              "    </tr>\n",
              "    <tr>\n",
              "      <th>2</th>\n",
              "      <td>tt0371746</td>\n",
              "      <td>7.9</td>\n",
              "      <td>917136</td>\n",
              "      <td>movie</td>\n",
              "      <td>Iron Man</td>\n",
              "      <td>1.0</td>\n",
              "      <td>0</td>\n",
              "      <td>2008</td>\n",
              "      <td>126</td>\n",
              "      <td>Action,Adventure,Sci-Fi</td>\n",
              "      <td>1</td>\n",
              "      <td>1</td>\n",
              "    </tr>\n",
              "    <tr>\n",
              "      <th>3</th>\n",
              "      <td>tt0376136</td>\n",
              "      <td>6.2</td>\n",
              "      <td>97574</td>\n",
              "      <td>movie</td>\n",
              "      <td>The Rum Diary</td>\n",
              "      <td>2.0</td>\n",
              "      <td>0</td>\n",
              "      <td>2011</td>\n",
              "      <td>119</td>\n",
              "      <td>Comedy,Drama</td>\n",
              "      <td>2</td>\n",
              "      <td>2</td>\n",
              "    </tr>\n",
              "    <tr>\n",
              "      <th>4</th>\n",
              "      <td>tt0409459</td>\n",
              "      <td>7.6</td>\n",
              "      <td>488627</td>\n",
              "      <td>movie</td>\n",
              "      <td>Watchmen</td>\n",
              "      <td>2.0</td>\n",
              "      <td>0</td>\n",
              "      <td>2009</td>\n",
              "      <td>162</td>\n",
              "      <td>Action,Drama,Mystery</td>\n",
              "      <td>1</td>\n",
              "      <td>1</td>\n",
              "    </tr>\n",
              "  </tbody>\n",
              "</table>\n",
              "</div>"
            ],
            "text/plain": [
              "      tconst  averageRating  ...  high_rating high_rating_7p1\n",
              "0  tt0361748            8.3  ...            1               1\n",
              "1  tt0364970            5.6  ...            2               2\n",
              "2  tt0371746            7.9  ...            1               1\n",
              "3  tt0376136            6.2  ...            2               2\n",
              "4  tt0409459            7.6  ...            1               1\n",
              "\n",
              "[5 rows x 12 columns]"
            ]
          },
          "metadata": {
            "tags": []
          },
          "execution_count": 36
        }
      ]
    },
    {
      "cell_type": "markdown",
      "metadata": {
        "id": "JKKnDz6zzRrE"
      },
      "source": [
        "### 6.5 High Rating"
      ]
    },
    {
      "cell_type": "code",
      "metadata": {
        "id": "KngeleQfzTbK",
        "outputId": "1ad819e2-5695-4c46-8f78-ee17b2a5ce5c",
        "colab": {
          "base_uri": "https://localhost:8080/",
          "height": 297
        }
      },
      "source": [
        "sns.countplot(data=df_combined,x='Like',hue='high_rating')"
      ],
      "execution_count": null,
      "outputs": [
        {
          "output_type": "execute_result",
          "data": {
            "text/plain": [
              "<matplotlib.axes._subplots.AxesSubplot at 0x7f39df3aea20>"
            ]
          },
          "metadata": {
            "tags": []
          },
          "execution_count": 37
        },
        {
          "output_type": "display_data",
          "data": {
            "image/png": "[encoded data removed]",
            "text/plain": [
              "<Figure size 432x288 with 1 Axes>"
            ]
          },
          "metadata": {
            "tags": [],
            "needs_background": "light"
          }
        }
      ]
    },
    {
      "cell_type": "code",
      "metadata": {
        "id": "l_8-euNbzbCS",
        "outputId": "d734fff4-e680-4c75-a4e9-3f4b60ccc1a5",
        "colab": {
          "base_uri": "https://localhost:8080/",
          "height": 297
        }
      },
      "source": [
        "sns.countplot(data=df_combined,x='Like',hue='high_rating_7p1')"
      ],
      "execution_count": null,
      "outputs": [
        {
          "output_type": "execute_result",
          "data": {
            "text/plain": [
              "<matplotlib.axes._subplots.AxesSubplot at 0x7f39e1f436d8>"
            ]
          },
          "metadata": {
            "tags": []
          },
          "execution_count": 38
        },
        {
          "output_type": "display_data",
          "data": {
            "image/png": "[encoded data removed]",
            "text/plain": [
              "<Figure size 432x288 with 1 Axes>"
            ]
          },
          "metadata": {
            "tags": [],
            "needs_background": "light"
          }
        }
      ]
    },
    {
      "cell_type": "code",
      "metadata": {
        "id": "j90hz8TljENd",
        "outputId": "6cab55ec-12bc-4027-baab-e57d1fcde46b",
        "colab": {
          "base_uri": "https://localhost:8080/",
          "height": 291
        }
      },
      "source": [
        "df_combined['high_rating_6p4'] = (df_combined['averageRating']>6.4).map(int)\n",
        "df_combined.head()\n"
      ],
      "execution_count": 33,
      "outputs": [
        {
          "output_type": "execute_result",
          "data": {
            "text/html": [
              "<div>\n",
              "<style scoped>\n",
              "    .dataframe tbody tr th:only-of-type {\n",
              "        vertical-align: middle;\n",
              "    }\n",
              "\n",
              "    .dataframe tbody tr th {\n",
              "        vertical-align: top;\n",
              "    }\n",
              "\n",
              "    .dataframe thead th {\n",
              "        text-align: right;\n",
              "    }\n",
              "</style>\n",
              "<table border=\"1\" class=\"dataframe\">\n",
              "  <thead>\n",
              "    <tr style=\"text-align: right;\">\n",
              "      <th></th>\n",
              "      <th>tconst</th>\n",
              "      <th>averageRating</th>\n",
              "      <th>numVotes</th>\n",
              "      <th>titleType</th>\n",
              "      <th>primaryTitle</th>\n",
              "      <th>Like</th>\n",
              "      <th>isAdult</th>\n",
              "      <th>startYear</th>\n",
              "      <th>runtimeMinutes</th>\n",
              "      <th>genres</th>\n",
              "      <th>high_rating</th>\n",
              "      <th>high_rating_7p1</th>\n",
              "      <th>high_rating_6p4</th>\n",
              "    </tr>\n",
              "  </thead>\n",
              "  <tbody>\n",
              "    <tr>\n",
              "      <th>0</th>\n",
              "      <td>tt0361748</td>\n",
              "      <td>8.3</td>\n",
              "      <td>1222518</td>\n",
              "      <td>movie</td>\n",
              "      <td>Inglourious Basterds</td>\n",
              "      <td>1.0</td>\n",
              "      <td>0</td>\n",
              "      <td>2009</td>\n",
              "      <td>153</td>\n",
              "      <td>Adventure,Drama,War</td>\n",
              "      <td>1</td>\n",
              "      <td>1</td>\n",
              "      <td>1</td>\n",
              "    </tr>\n",
              "    <tr>\n",
              "      <th>1</th>\n",
              "      <td>tt0364970</td>\n",
              "      <td>5.6</td>\n",
              "      <td>92368</td>\n",
              "      <td>movie</td>\n",
              "      <td>Babylon A.D.</td>\n",
              "      <td>2.0</td>\n",
              "      <td>0</td>\n",
              "      <td>2008</td>\n",
              "      <td>90</td>\n",
              "      <td>Action,Adventure,Sci-Fi</td>\n",
              "      <td>2</td>\n",
              "      <td>2</td>\n",
              "      <td>0</td>\n",
              "    </tr>\n",
              "    <tr>\n",
              "      <th>2</th>\n",
              "      <td>tt0371746</td>\n",
              "      <td>7.9</td>\n",
              "      <td>917136</td>\n",
              "      <td>movie</td>\n",
              "      <td>Iron Man</td>\n",
              "      <td>1.0</td>\n",
              "      <td>0</td>\n",
              "      <td>2008</td>\n",
              "      <td>126</td>\n",
              "      <td>Action,Adventure,Sci-Fi</td>\n",
              "      <td>1</td>\n",
              "      <td>1</td>\n",
              "      <td>1</td>\n",
              "    </tr>\n",
              "    <tr>\n",
              "      <th>3</th>\n",
              "      <td>tt0376136</td>\n",
              "      <td>6.2</td>\n",
              "      <td>97574</td>\n",
              "      <td>movie</td>\n",
              "      <td>The Rum Diary</td>\n",
              "      <td>2.0</td>\n",
              "      <td>0</td>\n",
              "      <td>2011</td>\n",
              "      <td>119</td>\n",
              "      <td>Comedy,Drama</td>\n",
              "      <td>2</td>\n",
              "      <td>2</td>\n",
              "      <td>0</td>\n",
              "    </tr>\n",
              "    <tr>\n",
              "      <th>4</th>\n",
              "      <td>tt0409459</td>\n",
              "      <td>7.6</td>\n",
              "      <td>488627</td>\n",
              "      <td>movie</td>\n",
              "      <td>Watchmen</td>\n",
              "      <td>2.0</td>\n",
              "      <td>0</td>\n",
              "      <td>2009</td>\n",
              "      <td>162</td>\n",
              "      <td>Action,Drama,Mystery</td>\n",
              "      <td>1</td>\n",
              "      <td>1</td>\n",
              "      <td>1</td>\n",
              "    </tr>\n",
              "  </tbody>\n",
              "</table>\n",
              "</div>"
            ],
            "text/plain": [
              "      tconst  averageRating  ...  high_rating_7p1 high_rating_6p4\n",
              "0  tt0361748            8.3  ...                1               1\n",
              "1  tt0364970            5.6  ...                2               0\n",
              "2  tt0371746            7.9  ...                1               1\n",
              "3  tt0376136            6.2  ...                2               0\n",
              "4  tt0409459            7.6  ...                1               1\n",
              "\n",
              "[5 rows x 13 columns]"
            ]
          },
          "metadata": {
            "tags": []
          },
          "execution_count": 33
        }
      ]
    },
    {
      "cell_type": "code",
      "metadata": {
        "id": "8isO9_pmjLLX",
        "outputId": "a056ea5a-2d1f-4458-e66d-377b796015f0",
        "colab": {
          "base_uri": "https://localhost:8080/",
          "height": 297
        }
      },
      "source": [
        "sns.countplot(data=df_combined,x='Like',hue='high_rating_6p4')"
      ],
      "execution_count": 34,
      "outputs": [
        {
          "output_type": "execute_result",
          "data": {
            "text/plain": [
              "<matplotlib.axes._subplots.AxesSubplot at 0x7fcd63708cc0>"
            ]
          },
          "metadata": {
            "tags": []
          },
          "execution_count": 34
        },
        {
          "output_type": "display_data",
          "data": {
            "image/png": "[encoded data removed]",
            "text/plain": [
              "<Figure size 432x288 with 1 Axes>"
            ]
          },
          "metadata": {
            "tags": [],
            "needs_background": "light"
          }
        }
      ]
    },
    {
      "cell_type": "markdown",
      "metadata": {
        "id": "3_MoVzN0izay"
      },
      "source": [
        "Above, we have created 3 plots with each having a different rating threshold:\n",
        "- **7.5**: Base threshold\n",
        "- **7.1**: Practical threshold\n",
        "- **6.4**: Best threshold based on data\n",
        "\n",
        "The 7.5 threshold is good at predicting liked movies but poor at predicting disliked movies. The 7.1 rating does equally well with liked movies and slightly improves with disliked movies. The 6.4 threshold does really well with disliked movies but does poorly with liked movies.\n",
        "\n",
        "Based on these results, we choose 7.1 as the best threshold to use for our model. "
      ]
    },
    {
      "cell_type": "markdown",
      "metadata": {
        "id": "YyRWdttE01vE"
      },
      "source": [
        "# 7. Prediction Using ML - Decision Trees"
      ]
    },
    {
      "cell_type": "markdown",
      "metadata": {
        "id": "vSXR41IdHsnU"
      },
      "source": [
        "We use decision trees for this modeling process since it's interpretable, fast and simple for the features that we are using. \n",
        "\n",
        "Also, note that we have only 2 variables:\n",
        "- *numVotes*\n",
        "- *high_rating_7p1*\n",
        "\n",
        "We did not use runtime as it was not a great distinguisher of liked and disliked movies."
      ]
    },
    {
      "cell_type": "code",
      "metadata": {
        "id": "FxNFhjc001Sq",
        "outputId": "0fa63080-0e1f-430d-93ef-6bf3b31e1637",
        "colab": {
          "base_uri": "https://localhost:8080/",
          "height": 52
        }
      },
      "source": [
        "x = df_combined[['numVotes','high_rating_7p1']]\n",
        "y = df_combined['Like']\n",
        "print (x.shape)\n",
        "print (y.shape)"
      ],
      "execution_count": 42,
      "outputs": [
        {
          "output_type": "stream",
          "text": [
            "(129, 2)\n",
            "(129,)\n"
          ],
          "name": "stdout"
        }
      ]
    },
    {
      "cell_type": "code",
      "metadata": {
        "id": "8K8crYc61xpE"
      },
      "source": [
        "from sklearn.model_selection import train_test_split\n",
        "from sklearn.tree import DecisionTreeClassifier\n",
        "from sklearn.preprocessing import LabelEncoder\n",
        "from sklearn.metrics import accuracy_score, roc_auc_score, f1_score"
      ],
      "execution_count": 43,
      "outputs": []
    },
    {
      "cell_type": "markdown",
      "metadata": {
        "id": "0AOi5GWz4mRW"
      },
      "source": [
        "### 7.1 Pre-processing"
      ]
    },
    {
      "cell_type": "markdown",
      "metadata": {
        "id": "_9u0XlP6lvSG"
      },
      "source": [
        "Below, we just transform the high_rating_7p1 variable into integer values and split the data into training and test sets."
      ]
    },
    {
      "cell_type": "code",
      "metadata": {
        "id": "RSQDJknq4oxs"
      },
      "source": [
        "le = LabelEncoder()\n",
        "x['high_rating_7p1'] = le.fit_transform(x['high_rating_7p1'])"
      ],
      "execution_count": 44,
      "outputs": []
    },
    {
      "cell_type": "code",
      "metadata": {
        "id": "C0PLak922Ac7",
        "outputId": "2262ab3c-e259-4f03-a108-fc781261b5a0",
        "colab": {
          "base_uri": "https://localhost:8080/",
          "height": 87
        }
      },
      "source": [
        "x_train,x_test,y_train,y_test = train_test_split(x,y,train_size=0.7,random_state=0)\n",
        "print (x_train.shape)\n",
        "print (x_test.shape)\n",
        "print (y_train.shape)\n",
        "print (y_test.shape)"
      ],
      "execution_count": 45,
      "outputs": [
        {
          "output_type": "stream",
          "text": [
            "(90, 2)\n",
            "(39, 2)\n",
            "(90,)\n",
            "(39,)\n"
          ],
          "name": "stdout"
        }
      ]
    },
    {
      "cell_type": "markdown",
      "metadata": {
        "id": "giXtZKM_2hgf"
      },
      "source": [
        "### 7.2 Baseline decision tree model"
      ]
    },
    {
      "cell_type": "code",
      "metadata": {
        "id": "_a-eXdH32GBV"
      },
      "source": [
        "dt = DecisionTreeClassifier(random_state=0)\n",
        "model = dt.fit(x_train,y_train)\n",
        "prediction = model.predict(x_test)"
      ],
      "execution_count": 46,
      "outputs": []
    },
    {
      "cell_type": "code",
      "metadata": {
        "id": "6087STwi7tT5",
        "outputId": "ff39f1dd-1ec5-4d9d-8e7b-192feadf4be1",
        "colab": {
          "base_uri": "https://localhost:8080/",
          "height": 35
        }
      },
      "source": [
        "accuracy_score(y_test,prediction)"
      ],
      "execution_count": 47,
      "outputs": [
        {
          "output_type": "execute_result",
          "data": {
            "text/plain": [
              "0.6153846153846154"
            ]
          },
          "metadata": {
            "tags": []
          },
          "execution_count": 47
        }
      ]
    },
    {
      "cell_type": "code",
      "metadata": {
        "id": "AKcdn6Gn-KfJ",
        "outputId": "c7d63770-5b91-48bb-ca4e-fe0d8d78a2f3",
        "colab": {
          "base_uri": "https://localhost:8080/",
          "height": 35
        }
      },
      "source": [
        "roc_auc_score(y_test,prediction)"
      ],
      "execution_count": 48,
      "outputs": [
        {
          "output_type": "execute_result",
          "data": {
            "text/plain": [
              "0.576923076923077"
            ]
          },
          "metadata": {
            "tags": []
          },
          "execution_count": 48
        }
      ]
    },
    {
      "cell_type": "markdown",
      "metadata": {
        "id": "mlkqtCy3nAi8"
      },
      "source": [
        "The baseline decision trees model provides an accuracy score of 0.61 and a ROC AUC score of 0.57 which are not the best. "
      ]
    },
    {
      "cell_type": "code",
      "metadata": {
        "id": "LTh00KWJ-PMU",
        "outputId": "e07e2a82-a33a-497b-d454-5d4dc861068d",
        "colab": {
          "base_uri": "https://localhost:8080/",
          "height": 121
        }
      },
      "source": [
        "model"
      ],
      "execution_count": null,
      "outputs": [
        {
          "output_type": "execute_result",
          "data": {
            "text/plain": [
              "DecisionTreeClassifier(ccp_alpha=0.0, class_weight=None, criterion='gini',\n",
              "                       max_depth=None, max_features=None, max_leaf_nodes=None,\n",
              "                       min_impurity_decrease=0.0, min_impurity_split=None,\n",
              "                       min_samples_leaf=1, min_samples_split=2,\n",
              "                       min_weight_fraction_leaf=0.0, presort='deprecated',\n",
              "                       random_state=0, splitter='best')"
            ]
          },
          "metadata": {
            "tags": []
          },
          "execution_count": 46
        }
      ]
    },
    {
      "cell_type": "code",
      "metadata": {
        "id": "mN4NINyF-XKt",
        "outputId": "a53f773e-80e2-4dca-a73f-9f05ad5ff356",
        "colab": {
          "base_uri": "https://localhost:8080/",
          "height": 387
        }
      },
      "source": [
        "sns.lmplot(data=df_combined,x='numVotes',y='high_rating_7p1',hue='Like',fit_reg=False)"
      ],
      "execution_count": 49,
      "outputs": [
        {
          "output_type": "execute_result",
          "data": {
            "text/plain": [
              "<seaborn.axisgrid.FacetGrid at 0x7fcd61c46c50>"
            ]
          },
          "metadata": {
            "tags": []
          },
          "execution_count": 49
        },
        {
          "output_type": "display_data",
          "data": {
            "image/png": "[encoded data removed]",
            "text/plain": [
              "<Figure size 411.875x360 with 1 Axes>"
            ]
          },
          "metadata": {
            "tags": [],
            "needs_background": "light"
          }
        }
      ]
    },
    {
      "cell_type": "code",
      "metadata": {
        "id": "C_0cexQxniMn",
        "outputId": "3adab7b5-acc9-4af1-a33f-b0a06e3155a1",
        "colab": {
          "base_uri": "https://localhost:8080/",
          "height": 202
        }
      },
      "source": [
        "df_combined[['Like','high_rating_7p1','numVotes']].groupby(['Like','high_rating_7p1']).count()"
      ],
      "execution_count": 50,
      "outputs": [
        {
          "output_type": "execute_result",
          "data": {
            "text/html": [
              "<div>\n",
              "<style scoped>\n",
              "    .dataframe tbody tr th:only-of-type {\n",
              "        vertical-align: middle;\n",
              "    }\n",
              "\n",
              "    .dataframe tbody tr th {\n",
              "        vertical-align: top;\n",
              "    }\n",
              "\n",
              "    .dataframe thead th {\n",
              "        text-align: right;\n",
              "    }\n",
              "</style>\n",
              "<table border=\"1\" class=\"dataframe\">\n",
              "  <thead>\n",
              "    <tr style=\"text-align: right;\">\n",
              "      <th></th>\n",
              "      <th></th>\n",
              "      <th>numVotes</th>\n",
              "    </tr>\n",
              "    <tr>\n",
              "      <th>Like</th>\n",
              "      <th>high_rating_7p1</th>\n",
              "      <th></th>\n",
              "    </tr>\n",
              "  </thead>\n",
              "  <tbody>\n",
              "    <tr>\n",
              "      <th rowspan=\"2\" valign=\"top\">1.0</th>\n",
              "      <th>1</th>\n",
              "      <td>49</td>\n",
              "    </tr>\n",
              "    <tr>\n",
              "      <th>2</th>\n",
              "      <td>30</td>\n",
              "    </tr>\n",
              "    <tr>\n",
              "      <th rowspan=\"2\" valign=\"top\">2.0</th>\n",
              "      <th>1</th>\n",
              "      <td>8</td>\n",
              "    </tr>\n",
              "    <tr>\n",
              "      <th>2</th>\n",
              "      <td>42</td>\n",
              "    </tr>\n",
              "  </tbody>\n",
              "</table>\n",
              "</div>"
            ],
            "text/plain": [
              "                      numVotes\n",
              "Like high_rating_7p1          \n",
              "1.0  1                      49\n",
              "     2                      30\n",
              "2.0  1                       8\n",
              "     2                      42"
            ]
          },
          "metadata": {
            "tags": []
          },
          "execution_count": 50
        }
      ]
    },
    {
      "cell_type": "markdown",
      "metadata": {
        "id": "OJYmLf6XnQMw"
      },
      "source": [
        "We diagnose the model a little and see that it predicts the liked movies really well, as we expected but does not model the disliked movies well. \n",
        "\n",
        "Maybe that says a little about my movie choices. In fact, what this says is that I tend to categorize the good movies correctly but I also sometimes categorize bad movies as good movies. "
      ]
    },
    {
      "cell_type": "markdown",
      "metadata": {
        "id": "BTcgTOEGCq43"
      },
      "source": [
        "### 7.3 Model with Average Rating"
      ]
    },
    {
      "cell_type": "code",
      "metadata": {
        "id": "KPHH5c06CQzd"
      },
      "source": [
        "def dt_model(features):\n",
        "  x = features\n",
        "  y = df_combined['Like']\n",
        "  print (x.shape)\n",
        "  print (y.shape)\n",
        "  x_train,x_test,y_train,y_test = train_test_split(x,y,train_size=0.7,random_state=0)\n",
        "  print (x_train.shape)\n",
        "  print (x_test.shape)\n",
        "  print (y_train.shape)\n",
        "  print (y_test.shape)\n",
        "  dt = DecisionTreeClassifier()\n",
        "  model = dt.fit(x_train,y_train)\n",
        "  prediction = model.predict(x_test)\n",
        "  print (\"Accuracy: \",accuracy_score(y_test,prediction))\n",
        "  print (\"ROC AUC: \",roc_auc_score(y_test,prediction))"
      ],
      "execution_count": 51,
      "outputs": []
    },
    {
      "cell_type": "code",
      "metadata": {
        "id": "IOigLe-mDMYl",
        "outputId": "17d21c6e-43bb-4f3a-a5e4-0cc8cebcea04",
        "colab": {
          "base_uri": "https://localhost:8080/",
          "height": 156
        }
      },
      "source": [
        "dt_model(df_combined[['numVotes','averageRating']])"
      ],
      "execution_count": 52,
      "outputs": [
        {
          "output_type": "stream",
          "text": [
            "(129, 2)\n",
            "(129,)\n",
            "(90, 2)\n",
            "(39, 2)\n",
            "(90,)\n",
            "(39,)\n",
            "Accuracy:  0.5641025641025641\n",
            "ROC AUC:  0.5384615384615385\n"
          ],
          "name": "stdout"
        }
      ]
    },
    {
      "cell_type": "markdown",
      "metadata": {
        "id": "IzVgRrZjo0pj"
      },
      "source": [
        "Adding the original average rating variable instead of the high_rating_7p1 variable yields a lower accuracy and AUC score. This is expected since the latter variable is a feature engineered (categorized) version of the former for a more optimized prediction. "
      ]
    },
    {
      "cell_type": "markdown",
      "metadata": {
        "id": "7-SmPZ6XUWWb"
      },
      "source": [
        "### 7.4 Optimization - Grid Search\n",
        "\n",
        "Parameter tuning for Decision Trees - https://towardsdatascience.com/how-to-tune-a-decision-tree-f03721801680"
      ]
    },
    {
      "cell_type": "code",
      "metadata": {
        "id": "Sc1bAjMcD8Hn"
      },
      "source": [
        "from sklearn.model_selection import GridSearchCV"
      ],
      "execution_count": 53,
      "outputs": []
    },
    {
      "cell_type": "code",
      "metadata": {
        "id": "KSALWZKQUgNt",
        "outputId": "eeb9dacb-0601-4268-e77c-dfc2f1868bd3",
        "colab": {
          "base_uri": "https://localhost:8080/",
          "height": 312
        }
      },
      "source": [
        "param = {'max_depth':[1,2,4,5,6,7,8,9,10],'min_samples_split':[1,2,3,4,5,8,10,20]}\n",
        "#scoring = {'AUC': 'roc_auc', 'Accuracy': 'accuracy'}\n",
        "clf = GridSearchCV(dt,param,scoring='roc_auc',cv=5)\n",
        "clf.fit(x_train,y_train)"
      ],
      "execution_count": 54,
      "outputs": [
        {
          "output_type": "execute_result",
          "data": {
            "text/plain": [
              "GridSearchCV(cv=5, error_score=nan,\n",
              "             estimator=DecisionTreeClassifier(ccp_alpha=0.0, class_weight=None,\n",
              "                                              criterion='gini', max_depth=None,\n",
              "                                              max_features=None,\n",
              "                                              max_leaf_nodes=None,\n",
              "                                              min_impurity_decrease=0.0,\n",
              "                                              min_impurity_split=None,\n",
              "                                              min_samples_leaf=1,\n",
              "                                              min_samples_split=2,\n",
              "                                              min_weight_fraction_leaf=0.0,\n",
              "                                              presort='deprecated',\n",
              "                                              random_state=0, splitter='best'),\n",
              "             iid='deprecated', n_jobs=None,\n",
              "             param_grid={'max_depth': [1, 2, 4, 5, 6, 7, 8, 9, 10],\n",
              "                         'min_samples_split': [1, 2, 3, 4, 5, 8, 10, 20]},\n",
              "             pre_dispatch='2*n_jobs', refit=True, return_train_score=False,\n",
              "             scoring='roc_auc', verbose=0)"
            ]
          },
          "metadata": {
            "tags": []
          },
          "execution_count": 54
        }
      ]
    },
    {
      "cell_type": "code",
      "metadata": {
        "id": "lHt1Yuc6cfI7",
        "outputId": "45743df0-1f66-4e1e-ba9b-9f308e0f2525",
        "colab": {
          "base_uri": "https://localhost:8080/",
          "height": 173
        }
      },
      "source": [
        "print (\"Best model: \",clf.best_estimator_)\n",
        "print (\"Best model parameters: \",clf.best_params_)\n",
        "print (\"Best ROC AUC score: \",clf.best_score_)\n",
        "print (\"Best features: \",model.feature_importances_)"
      ],
      "execution_count": 55,
      "outputs": [
        {
          "output_type": "stream",
          "text": [
            "Best model:  DecisionTreeClassifier(ccp_alpha=0.0, class_weight=None, criterion='gini',\n",
            "                       max_depth=1, max_features=None, max_leaf_nodes=None,\n",
            "                       min_impurity_decrease=0.0, min_impurity_split=None,\n",
            "                       min_samples_leaf=1, min_samples_split=2,\n",
            "                       min_weight_fraction_leaf=0.0, presort='deprecated',\n",
            "                       random_state=0, splitter='best')\n",
            "Best model parameters:  {'max_depth': 1, 'min_samples_split': 2}\n",
            "Best ROC AUC score:  0.7621428571428571\n",
            "Best features:  [0.72950025 0.27049975]\n"
          ],
          "name": "stdout"
        }
      ]
    },
    {
      "cell_type": "code",
      "metadata": {
        "id": "_X_c0bNPcaVf",
        "outputId": "5622b24c-c848-4448-cc79-e5ea82b95d22",
        "colab": {
          "base_uri": "https://localhost:8080/",
          "height": 1000
        }
      },
      "source": [
        "clf.cv_results_"
      ],
      "execution_count": null,
      "outputs": [
        {
          "output_type": "execute_result",
          "data": {
            "text/plain": [
              "{'mean_fit_time': array([0.00286036, 0.00192246, 0.00189257, 0.00191283, 0.00193238,\n",
              "        0.00191631, 0.00188551, 0.00209436, 0.0018681 , 0.00215297,\n",
              "        0.00211701, 0.00334883, 0.00203137, 0.00198827, 0.00201058,\n",
              "        0.00194116, 0.0018456 , 0.00192008, 0.00204048, 0.00195475,\n",
              "        0.00188951, 0.00189309, 0.00226722, 0.00202956, 0.00209522,\n",
              "        0.00200744, 0.00193191, 0.00204997, 0.0019547 , 0.00203066,\n",
              "        0.00193338, 0.00191092, 0.00180025, 0.00196466, 0.00277805,\n",
              "        0.00223069, 0.00225964, 0.00205274, 0.00194502, 0.00196247,\n",
              "        0.00190258, 0.00210638, 0.00199604, 0.00191803, 0.0018908 ,\n",
              "        0.00188656, 0.00193377, 0.0019206 , 0.00176129, 0.00192618,\n",
              "        0.00194044, 0.00196996, 0.00217514, 0.00196342, 0.00195003,\n",
              "        0.00192361, 0.00177469, 0.00217562, 0.00205112, 0.00197411,\n",
              "        0.00193539, 0.00256505, 0.00196261, 0.00195694, 0.00182104,\n",
              "        0.00196342, 0.00195961, 0.00196285, 0.00195513, 0.00209017,\n",
              "        0.00195246, 0.00192442]),\n",
              " 'mean_score_time': array([0.        , 0.00170488, 0.00161867, 0.00158253, 0.00159531,\n",
              "        0.00157924, 0.00161343, 0.00160851, 0.        , 0.0017314 ,\n",
              "        0.00203633, 0.0026032 , 0.00175438, 0.00167918, 0.00165291,\n",
              "        0.00167036, 0.        , 0.00171418, 0.00179429, 0.00173211,\n",
              "        0.0016294 , 0.00166707, 0.00194621, 0.00172739, 0.        ,\n",
              "        0.00169673, 0.00170727, 0.00172887, 0.00164924, 0.00169063,\n",
              "        0.00170493, 0.00163279, 0.        , 0.00173311, 0.00239182,\n",
              "        0.00193439, 0.0019237 , 0.00174742, 0.00170794, 0.00170488,\n",
              "        0.        , 0.00184293, 0.00175409, 0.00162497, 0.00164347,\n",
              "        0.00164456, 0.00167174, 0.00163531, 0.        , 0.00171237,\n",
              "        0.00164957, 0.00167594, 0.00191855, 0.00171571, 0.00171156,\n",
              "        0.00166459, 0.        , 0.00176597, 0.00171342, 0.00171127,\n",
              "        0.0016222 , 0.00209861, 0.00179925, 0.00168924, 0.        ,\n",
              "        0.00168986, 0.00170465, 0.00166812, 0.00169935, 0.00171223,\n",
              "        0.00166736, 0.00163574]),\n",
              " 'mean_test_score': array([       nan, 0.76214286, 0.76214286, 0.76214286, 0.76214286,\n",
              "        0.76214286, 0.76214286, 0.76214286,        nan, 0.72193182,\n",
              "        0.72193182, 0.72193182, 0.72193182, 0.72193182, 0.72193182,\n",
              "        0.72193182,        nan, 0.6949513 , 0.6949513 , 0.68456169,\n",
              "        0.68456169, 0.68715909, 0.68715909, 0.67797078,        nan,\n",
              "        0.67201299, 0.69279221, 0.69019481, 0.685     , 0.6875974 ,\n",
              "        0.6875974 , 0.68836039,        nan, 0.65113636, 0.6836039 ,\n",
              "        0.67711039, 0.66821429, 0.66956169, 0.66956169, 0.67147727,\n",
              "               nan, 0.6886039 , 0.71847403, 0.71068182, 0.70178571,\n",
              "        0.70183442, 0.70183442, 0.68446429,        nan, 0.6886039 ,\n",
              "        0.71327922, 0.70548701, 0.69659091, 0.69534091, 0.69144481,\n",
              "        0.68446429,        nan, 0.68191558, 0.70788961, 0.7000974 ,\n",
              "        0.6950974 , 0.6950974 , 0.69144481, 0.68446429,        nan,\n",
              "        0.67022727, 0.69100649, 0.68581169, 0.68340909, 0.6950974 ,\n",
              "        0.69144481, 0.68446429]),\n",
              " 'param_max_depth': masked_array(data=[1, 1, 1, 1, 1, 1, 1, 1, 2, 2, 2, 2, 2, 2, 2, 2, 4, 4,\n",
              "                    4, 4, 4, 4, 4, 4, 5, 5, 5, 5, 5, 5, 5, 5, 6, 6, 6, 6,\n",
              "                    6, 6, 6, 6, 7, 7, 7, 7, 7, 7, 7, 7, 8, 8, 8, 8, 8, 8,\n",
              "                    8, 8, 9, 9, 9, 9, 9, 9, 9, 9, 10, 10, 10, 10, 10, 10,\n",
              "                    10, 10],\n",
              "              mask=[False, False, False, False, False, False, False, False,\n",
              "                    False, False, False, False, False, False, False, False,\n",
              "                    False, False, False, False, False, False, False, False,\n",
              "                    False, False, False, False, False, False, False, False,\n",
              "                    False, False, False, False, False, False, False, False,\n",
              "                    False, False, False, False, False, False, False, False,\n",
              "                    False, False, False, False, False, False, False, False,\n",
              "                    False, False, False, False, False, False, False, False,\n",
              "                    False, False, False, False, False, False, False, False],\n",
              "        fill_value='?',\n",
              "             dtype=object),\n",
              " 'param_min_samples_split': masked_array(data=[1, 2, 3, 4, 5, 8, 10, 20, 1, 2, 3, 4, 5, 8, 10, 20, 1,\n",
              "                    2, 3, 4, 5, 8, 10, 20, 1, 2, 3, 4, 5, 8, 10, 20, 1, 2,\n",
              "                    3, 4, 5, 8, 10, 20, 1, 2, 3, 4, 5, 8, 10, 20, 1, 2, 3,\n",
              "                    4, 5, 8, 10, 20, 1, 2, 3, 4, 5, 8, 10, 20, 1, 2, 3, 4,\n",
              "                    5, 8, 10, 20],\n",
              "              mask=[False, False, False, False, False, False, False, False,\n",
              "                    False, False, False, False, False, False, False, False,\n",
              "                    False, False, False, False, False, False, False, False,\n",
              "                    False, False, False, False, False, False, False, False,\n",
              "                    False, False, False, False, False, False, False, False,\n",
              "                    False, False, False, False, False, False, False, False,\n",
              "                    False, False, False, False, False, False, False, False,\n",
              "                    False, False, False, False, False, False, False, False,\n",
              "                    False, False, False, False, False, False, False, False],\n",
              "        fill_value='?',\n",
              "             dtype=object),\n",
              " 'params': [{'max_depth': 1, 'min_samples_split': 1},\n",
              "  {'max_depth': 1, 'min_samples_split': 2},\n",
              "  {'max_depth': 1, 'min_samples_split': 3},\n",
              "  {'max_depth': 1, 'min_samples_split': 4},\n",
              "  {'max_depth': 1, 'min_samples_split': 5},\n",
              "  {'max_depth': 1, 'min_samples_split': 8},\n",
              "  {'max_depth': 1, 'min_samples_split': 10},\n",
              "  {'max_depth': 1, 'min_samples_split': 20},\n",
              "  {'max_depth': 2, 'min_samples_split': 1},\n",
              "  {'max_depth': 2, 'min_samples_split': 2},\n",
              "  {'max_depth': 2, 'min_samples_split': 3},\n",
              "  {'max_depth': 2, 'min_samples_split': 4},\n",
              "  {'max_depth': 2, 'min_samples_split': 5},\n",
              "  {'max_depth': 2, 'min_samples_split': 8},\n",
              "  {'max_depth': 2, 'min_samples_split': 10},\n",
              "  {'max_depth': 2, 'min_samples_split': 20},\n",
              "  {'max_depth': 4, 'min_samples_split': 1},\n",
              "  {'max_depth': 4, 'min_samples_split': 2},\n",
              "  {'max_depth': 4, 'min_samples_split': 3},\n",
              "  {'max_depth': 4, 'min_samples_split': 4},\n",
              "  {'max_depth': 4, 'min_samples_split': 5},\n",
              "  {'max_depth': 4, 'min_samples_split': 8},\n",
              "  {'max_depth': 4, 'min_samples_split': 10},\n",
              "  {'max_depth': 4, 'min_samples_split': 20},\n",
              "  {'max_depth': 5, 'min_samples_split': 1},\n",
              "  {'max_depth': 5, 'min_samples_split': 2},\n",
              "  {'max_depth': 5, 'min_samples_split': 3},\n",
              "  {'max_depth': 5, 'min_samples_split': 4},\n",
              "  {'max_depth': 5, 'min_samples_split': 5},\n",
              "  {'max_depth': 5, 'min_samples_split': 8},\n",
              "  {'max_depth': 5, 'min_samples_split': 10},\n",
              "  {'max_depth': 5, 'min_samples_split': 20},\n",
              "  {'max_depth': 6, 'min_samples_split': 1},\n",
              "  {'max_depth': 6, 'min_samples_split': 2},\n",
              "  {'max_depth': 6, 'min_samples_split': 3},\n",
              "  {'max_depth': 6, 'min_samples_split': 4},\n",
              "  {'max_depth': 6, 'min_samples_split': 5},\n",
              "  {'max_depth': 6, 'min_samples_split': 8},\n",
              "  {'max_depth': 6, 'min_samples_split': 10},\n",
              "  {'max_depth': 6, 'min_samples_split': 20},\n",
              "  {'max_depth': 7, 'min_samples_split': 1},\n",
              "  {'max_depth': 7, 'min_samples_split': 2},\n",
              "  {'max_depth': 7, 'min_samples_split': 3},\n",
              "  {'max_depth': 7, 'min_samples_split': 4},\n",
              "  {'max_depth': 7, 'min_samples_split': 5},\n",
              "  {'max_depth': 7, 'min_samples_split': 8},\n",
              "  {'max_depth': 7, 'min_samples_split': 10},\n",
              "  {'max_depth': 7, 'min_samples_split': 20},\n",
              "  {'max_depth': 8, 'min_samples_split': 1},\n",
              "  {'max_depth': 8, 'min_samples_split': 2},\n",
              "  {'max_depth': 8, 'min_samples_split': 3},\n",
              "  {'max_depth': 8, 'min_samples_split': 4},\n",
              "  {'max_depth': 8, 'min_samples_split': 5},\n",
              "  {'max_depth': 8, 'min_samples_split': 8},\n",
              "  {'max_depth': 8, 'min_samples_split': 10},\n",
              "  {'max_depth': 8, 'min_samples_split': 20},\n",
              "  {'max_depth': 9, 'min_samples_split': 1},\n",
              "  {'max_depth': 9, 'min_samples_split': 2},\n",
              "  {'max_depth': 9, 'min_samples_split': 3},\n",
              "  {'max_depth': 9, 'min_samples_split': 4},\n",
              "  {'max_depth': 9, 'min_samples_split': 5},\n",
              "  {'max_depth': 9, 'min_samples_split': 8},\n",
              "  {'max_depth': 9, 'min_samples_split': 10},\n",
              "  {'max_depth': 9, 'min_samples_split': 20},\n",
              "  {'max_depth': 10, 'min_samples_split': 1},\n",
              "  {'max_depth': 10, 'min_samples_split': 2},\n",
              "  {'max_depth': 10, 'min_samples_split': 3},\n",
              "  {'max_depth': 10, 'min_samples_split': 4},\n",
              "  {'max_depth': 10, 'min_samples_split': 5},\n",
              "  {'max_depth': 10, 'min_samples_split': 8},\n",
              "  {'max_depth': 10, 'min_samples_split': 10},\n",
              "  {'max_depth': 10, 'min_samples_split': 20}],\n",
              " 'rank_test_score': array([72,  1,  1,  1,  1,  1,  1,  1, 70,  8,  8,  8,  8,  8,  8,  8, 69,\n",
              "        29, 29, 46, 46, 42, 42, 55, 68, 57, 31, 36, 45, 40, 40, 39, 66, 63,\n",
              "        52, 56, 62, 60, 60, 58, 65, 37, 15, 17, 22, 20, 20, 48, 71, 37, 16,\n",
              "        19, 24, 25, 32, 48, 64, 54, 18, 23, 26, 26, 32, 48, 67, 59, 35, 44,\n",
              "        53, 26, 32, 48], dtype=int32),\n",
              " 'split0_test_score': array([    nan, 0.7875 , 0.7875 , 0.7875 , 0.7875 , 0.7875 , 0.7875 ,\n",
              "        0.7875 ,     nan, 0.79375, 0.79375, 0.79375, 0.79375, 0.79375,\n",
              "        0.79375, 0.79375,     nan, 0.775  , 0.775  , 0.775  , 0.775  ,\n",
              "        0.775  , 0.775  , 0.775  ,     nan, 0.7375 , 0.7375 , 0.7375 ,\n",
              "        0.7375 , 0.7375 , 0.7375 , 0.775  ,     nan, 0.7    , 0.7    ,\n",
              "        0.7    , 0.7    , 0.71875, 0.71875, 0.775  ,     nan, 0.725  ,\n",
              "        0.725  , 0.725  , 0.725  , 0.74375, 0.74375, 0.775  ,     nan,\n",
              "        0.725  , 0.725  , 0.725  , 0.725  , 0.74375, 0.74375, 0.775  ,\n",
              "            nan, 0.75   , 0.75   , 0.75   , 0.75   , 0.775  , 0.74375,\n",
              "        0.775  ,     nan, 0.75   , 0.75   , 0.75   , 0.75   , 0.775  ,\n",
              "        0.74375, 0.775  ]),\n",
              " 'split1_test_score': array([    nan, 0.7375 , 0.7375 , 0.7375 , 0.7375 , 0.7375 , 0.7375 ,\n",
              "        0.7375 ,     nan, 0.725  , 0.725  , 0.725  , 0.725  , 0.725  ,\n",
              "        0.725  , 0.725  ,     nan, 0.70625, 0.70625, 0.70625, 0.70625,\n",
              "        0.70625, 0.70625, 0.71875,     nan, 0.6875 , 0.6875 , 0.6875 ,\n",
              "        0.6875 , 0.6875 , 0.6875 , 0.71875,     nan, 0.7375 , 0.7375 ,\n",
              "        0.7375 , 0.7125 , 0.6875 , 0.6875 , 0.71875,     nan, 0.7375 ,\n",
              "        0.7375 , 0.7375 , 0.7125 , 0.6875 , 0.6875 , 0.71875,     nan,\n",
              "        0.7375 , 0.7375 , 0.7375 , 0.7125 , 0.6875 , 0.6875 , 0.71875,\n",
              "            nan, 0.7375 , 0.7375 , 0.7375 , 0.7125 , 0.6875 , 0.6875 ,\n",
              "        0.71875,     nan, 0.7375 , 0.7375 , 0.7375 , 0.7125 , 0.6875 ,\n",
              "        0.6875 , 0.71875]),\n",
              " 'split2_test_score': array([       nan, 0.74675325, 0.74675325, 0.74675325, 0.74675325,\n",
              "        0.74675325, 0.74675325, 0.74675325,        nan, 0.72077922,\n",
              "        0.72077922, 0.72077922, 0.72077922, 0.72077922, 0.72077922,\n",
              "        0.72077922,        nan, 0.5974026 , 0.5974026 , 0.5974026 ,\n",
              "        0.5974026 , 0.61038961, 0.61038961, 0.61038961,        nan,\n",
              "        0.5       , 0.62987013, 0.62987013, 0.6038961 , 0.61688312,\n",
              "        0.61688312, 0.61038961,        nan, 0.44155844, 0.61688312,\n",
              "        0.61688312, 0.5974026 , 0.62337662, 0.62337662, 0.61688312,\n",
              "               nan, 0.51298701, 0.67532468, 0.67532468, 0.65584416,\n",
              "        0.67532468, 0.67532468, 0.61688312,        nan, 0.55194805,\n",
              "        0.7012987 , 0.7012987 , 0.68181818, 0.69480519, 0.67532468,\n",
              "        0.61688312,        nan, 0.55194805, 0.7012987 , 0.7012987 ,\n",
              "        0.68181818, 0.69480519, 0.67532468, 0.61688312,        nan,\n",
              "        0.53246753, 0.66233766, 0.66233766, 0.63636364, 0.69480519,\n",
              "        0.67532468, 0.61688312]),\n",
              " 'split3_test_score': array([       nan, 0.83766234, 0.83766234, 0.83766234, 0.83766234,\n",
              "        0.83766234, 0.83766234, 0.83766234,        nan, 0.7012987 ,\n",
              "        0.7012987 , 0.7012987 , 0.7012987 , 0.7012987 , 0.7012987 ,\n",
              "        0.7012987 ,        nan, 0.75324675, 0.75324675, 0.7012987 ,\n",
              "        0.7012987 , 0.7012987 , 0.7012987 , 0.66233766,        nan,\n",
              "        0.79220779, 0.76623377, 0.75324675, 0.75324675, 0.75324675,\n",
              "        0.75324675, 0.71428571,        nan, 0.80519481, 0.79220779,\n",
              "        0.75974026, 0.75974026, 0.74675325, 0.74675325, 0.71428571,\n",
              "               nan, 0.80519481, 0.79220779, 0.77922078, 0.77922078,\n",
              "        0.76623377, 0.76623377, 0.71428571,        nan, 0.76623377,\n",
              "        0.74025974, 0.72727273, 0.72727273, 0.71428571, 0.71428571,\n",
              "        0.71428571,        nan, 0.70779221, 0.68831169, 0.67532468,\n",
              "        0.69480519, 0.68181818, 0.71428571, 0.71428571,        nan,\n",
              "        0.66883117, 0.64285714, 0.64285714, 0.68181818, 0.68181818,\n",
              "        0.71428571, 0.71428571]),\n",
              " 'split4_test_score': array([       nan, 0.7012987 , 0.7012987 , 0.7012987 , 0.7012987 ,\n",
              "        0.7012987 , 0.7012987 , 0.7012987 ,        nan, 0.66883117,\n",
              "        0.66883117, 0.66883117, 0.66883117, 0.66883117, 0.66883117,\n",
              "        0.66883117,        nan, 0.64285714, 0.64285714, 0.64285714,\n",
              "        0.64285714, 0.64285714, 0.64285714, 0.62337662,        nan,\n",
              "        0.64285714, 0.64285714, 0.64285714, 0.64285714, 0.64285714,\n",
              "        0.64285714, 0.62337662,        nan, 0.57142857, 0.57142857,\n",
              "        0.57142857, 0.57142857, 0.57142857, 0.57142857, 0.53246753,\n",
              "               nan, 0.66233766, 0.66233766, 0.63636364, 0.63636364,\n",
              "        0.63636364, 0.63636364, 0.5974026 ,        nan, 0.66233766,\n",
              "        0.66233766, 0.63636364, 0.63636364, 0.63636364, 0.63636364,\n",
              "        0.5974026 ,        nan, 0.66233766, 0.66233766, 0.63636364,\n",
              "        0.63636364, 0.63636364, 0.63636364, 0.5974026 ,        nan,\n",
              "        0.66233766, 0.66233766, 0.63636364, 0.63636364, 0.63636364,\n",
              "        0.63636364, 0.5974026 ]),\n",
              " 'std_fit_time': array([1.40355004e-03, 4.22254314e-05, 3.32882202e-05, 3.39433040e-05,\n",
              "        8.07413591e-05, 6.11061934e-05, 4.22095434e-05, 2.51824227e-04,\n",
              "        5.13324890e-05, 2.28306893e-04, 4.27658513e-04, 9.05327780e-04,\n",
              "        1.13208754e-04, 9.11817634e-05, 1.78745193e-04, 5.49361936e-05,\n",
              "        8.13888537e-05, 2.57499130e-05, 8.32350094e-05, 2.20407113e-05,\n",
              "        2.39158436e-05, 6.52154616e-05, 4.61639585e-04, 1.15089328e-04,\n",
              "        3.20502931e-04, 1.12743142e-04, 4.62327991e-05, 1.78749671e-04,\n",
              "        5.24567689e-05, 1.45308126e-04, 4.46059180e-05, 2.09895029e-05,\n",
              "        4.32232303e-05, 2.26733938e-05, 4.69123558e-04, 4.62584640e-05,\n",
              "        6.63920361e-05, 1.44776933e-04, 1.36320396e-05, 3.49906863e-05,\n",
              "        2.90095751e-05, 1.14824269e-04, 4.90607276e-05, 1.57719972e-05,\n",
              "        1.08280889e-05, 1.39782436e-05, 2.25102495e-05, 2.05048849e-05,\n",
              "        1.78139368e-05, 1.55984797e-05, 4.97847224e-05, 7.56048735e-05,\n",
              "        3.32091643e-04, 4.38416437e-05, 8.95895683e-06, 1.89042932e-05,\n",
              "        3.30969645e-05, 2.81420767e-04, 9.58926520e-05, 3.77343632e-05,\n",
              "        2.72046360e-05, 4.80319482e-04, 2.91282331e-05, 2.25997674e-05,\n",
              "        6.64395198e-05, 2.48735375e-05, 4.13886413e-05, 3.77257456e-05,\n",
              "        3.46790785e-05, 6.90478317e-05, 1.99876122e-05, 3.44326618e-05]),\n",
              " 'std_score_time': array([0.00000000e+00, 5.61436826e-05, 2.61137030e-05, 1.60167607e-05,\n",
              "        4.64874412e-05, 3.09875921e-05, 4.19671965e-05, 2.06138198e-05,\n",
              "        0.00000000e+00, 5.83479972e-05, 4.23234172e-04, 5.22636379e-04,\n",
              "        8.73067351e-05, 2.61770137e-05, 4.40976158e-05, 2.38366121e-05,\n",
              "        0.00000000e+00, 3.64046980e-05, 1.59373745e-04, 1.52537889e-04,\n",
              "        2.64351915e-05, 1.86804570e-05, 3.72393427e-04, 6.95225306e-05,\n",
              "        0.00000000e+00, 4.82799919e-05, 6.19197240e-05, 1.77813593e-05,\n",
              "        3.83344454e-05, 9.31980635e-05, 1.28107962e-04, 4.01525768e-05,\n",
              "        0.00000000e+00, 3.80811720e-05, 3.98805858e-04, 6.84802908e-05,\n",
              "        4.59433530e-05, 1.24171399e-04, 5.87202454e-05, 4.74186684e-05,\n",
              "        0.00000000e+00, 1.24410406e-04, 9.27982446e-05, 2.85049728e-05,\n",
              "        4.41712871e-05, 3.55515280e-05, 2.43767811e-05, 2.49914535e-05,\n",
              "        0.00000000e+00, 6.80691348e-05, 1.96982809e-05, 3.18349429e-05,\n",
              "        3.94760751e-04, 6.18611267e-05, 7.29874624e-05, 2.64768743e-05,\n",
              "        0.00000000e+00, 3.50347158e-05, 3.17147258e-05, 5.81562687e-05,\n",
              "        3.98191862e-05, 4.07882904e-04, 3.06785614e-04, 2.56755446e-05,\n",
              "        0.00000000e+00, 4.03876851e-05, 7.97737877e-05, 2.59631593e-05,\n",
              "        9.85294425e-05, 3.43791324e-05, 3.20307530e-05, 1.39562669e-05]),\n",
              " 'std_test_score': array([       nan, 0.04667397, 0.04667397, 0.04667397, 0.04667397,\n",
              "        0.04667397, 0.04667397, 0.04667397,        nan, 0.04102194,\n",
              "        0.04102194, 0.04102194, 0.04102194, 0.04102194, 0.04102194,\n",
              "        0.04102194,        nan, 0.06657832, 0.06657832, 0.060441  ,\n",
              "        0.060441  , 0.05680956, 0.05680956, 0.06143248,        nan,\n",
              "        0.09941199, 0.05267477, 0.04919454, 0.05616757, 0.05254011,\n",
              "        0.05254011, 0.06229672,        nan, 0.12950411, 0.08000424,\n",
              "        0.07182549, 0.07173609, 0.0639734 , 0.0639734 , 0.08612602,\n",
              "               nan, 0.09883334, 0.04659271, 0.04978983, 0.05106968,\n",
              "        0.04711445, 0.04711445, 0.06694549,        nan, 0.07629762,\n",
              "        0.02895012, 0.03653981, 0.03419681, 0.03533392, 0.03624057,\n",
              "        0.06694549,        nan, 0.07165134, 0.03209914, 0.04139166,\n",
              "        0.03726452, 0.04487365, 0.03624057, 0.06694549,        nan,\n",
              "        0.07737086, 0.04382703, 0.04823495, 0.04406747, 0.04487365,\n",
              "        0.03624057, 0.06694549])}"
            ]
          },
          "metadata": {
            "tags": []
          },
          "execution_count": 55
        }
      ]
    },
    {
      "cell_type": "markdown",
      "metadata": {
        "id": "YT3FKehlIj5f"
      },
      "source": [
        "### 7.5 Adding optimized parameters back to Decision Tree model"
      ]
    },
    {
      "cell_type": "code",
      "metadata": {
        "id": "yCb7BCGdcsVH",
        "outputId": "e37ec0a2-f158-46b8-b962-2ae681e071ed",
        "colab": {
          "base_uri": "https://localhost:8080/",
          "height": 52
        }
      },
      "source": [
        "'''\n",
        "x = df_combined[['numVotes','']]\n",
        "y = df_combined['Like']\n",
        "print (x.shape)\n",
        "print (y.shape)\n",
        "x_train,x_test,y_train,y_test = train_test_split(x,y,train_size=0.7,random_state=0)\n",
        "print (x_train.shape)\n",
        "print (x_test.shape)\n",
        "print (y_train.shape)\n",
        "print (y_test.shape)\n",
        "'''\n",
        "dt = DecisionTreeClassifier(max_depth=1,min_samples_split=2,random_state=0)\n",
        "model = dt.fit(x_train,y_train)\n",
        "prediction = model.predict(x_test)\n",
        "print (\"Accuracy: \",accuracy_score(y_test,prediction))\n",
        "print (\"ROC AUC: \",roc_auc_score(y_test,prediction))"
      ],
      "execution_count": 56,
      "outputs": [
        {
          "output_type": "stream",
          "text": [
            "Accuracy:  0.6153846153846154\n",
            "ROC AUC:  0.6538461538461537\n"
          ],
          "name": "stdout"
        }
      ]
    },
    {
      "cell_type": "markdown",
      "metadata": {
        "id": "JpHE77zqKJac"
      },
      "source": [
        "We see an improvement in ROC AUC from 0.57 to 0.65 but the accuracy remains the same from the baseline model. This is possibly due to us optimizing the model with respect to AUC. "
      ]
    },
    {
      "cell_type": "markdown",
      "metadata": {
        "id": "eXClYy7V6Q-o"
      },
      "source": [
        "### 7.6 Visualizing the final Decision Tree model\n",
        "\n",
        "\"Visualize a Decision Tree in 4 Ways with Scikit-Learn and Python\" - \n",
        "https://mljar.com/blog/visualize-decision-tree/"
      ]
    },
    {
      "cell_type": "code",
      "metadata": {
        "id": "EvN057-kJqpg",
        "outputId": "0a4a70db-1219-4c7a-d791-7766aaa633fc",
        "colab": {
          "base_uri": "https://localhost:8080/",
          "height": 922
        }
      },
      "source": [
        "from sklearn import tree\n",
        "\n",
        "fig = plt.figure(figsize=(25,20))\n",
        "_ = tree.plot_tree(model, \n",
        "                   feature_names=list(x.columns),  \n",
        "                   class_names=pd.Series(map(str,y)).unique(),\n",
        "                   filled=True)"
      ],
      "execution_count": 57,
      "outputs": [
        {
          "output_type": "display_data",
          "data": {
            "image/png": "[encoded data removed]",
            "text/plain": [
              "<Figure size 1800x1440 with 1 Axes>"
            ]
          },
          "metadata": {
            "tags": [],
            "needs_background": "light"
          }
        }
      ]
    },
    {
      "cell_type": "markdown",
      "metadata": {
        "id": "TT5Gm_YF7i1f"
      },
      "source": [
        "### 7.7 Diagnosing the final model"
      ]
    },
    {
      "cell_type": "code",
      "metadata": {
        "id": "7eFHyD_INKzV"
      },
      "source": [
        "from sklearn.metrics import confusion_matrix\n",
        "tn, fp, fn, tp = confusion_matrix(y_test, prediction).ravel()"
      ],
      "execution_count": 59,
      "outputs": []
    },
    {
      "cell_type": "code",
      "metadata": {
        "id": "6htBqPoTB_Sf"
      },
      "source": [
        "def plot_confusion_matrix(cm,\n",
        "                          target_names,\n",
        "                          title='Confusion matrix',\n",
        "                          cmap=None,\n",
        "                          normalize=True):\n",
        "    \"\"\"\n",
        "    given a sklearn confusion matrix (cm), make a nice plot\n",
        "\n",
        "    Arguments\n",
        "    ---------\n",
        "    cm:           confusion matrix from sklearn.metrics.confusion_matrix\n",
        "\n",
        "    target_names: given classification classes such as [0, 1, 2]\n",
        "                  the class names, for example: ['high', 'medium', 'low']\n",
        "\n",
        "    title:        the text to display at the top of the matrix\n",
        "\n",
        "    cmap:         the gradient of the values displayed from matplotlib.pyplot.cm\n",
        "                  see http://matplotlib.org/examples/color/colormaps_reference.html\n",
        "                  plt.get_cmap('jet') or plt.cm.Blues\n",
        "\n",
        "    normalize:    If False, plot the raw numbers\n",
        "                  If True, plot the proportions\n",
        "\n",
        "    Usage\n",
        "    -----\n",
        "    plot_confusion_matrix(cm           = cm,                  # confusion matrix created by\n",
        "                                                              # sklearn.metrics.confusion_matrix\n",
        "                          normalize    = True,                # show proportions\n",
        "                          target_names = y_labels_vals,       # list of names of the classes\n",
        "                          title        = best_estimator_name) # title of graph\n",
        "\n",
        "    Citiation\n",
        "    ---------\n",
        "    http://scikit-learn.org/stable/auto_examples/model_selection/plot_confusion_matrix.html\n",
        "\n",
        "    \"\"\"\n",
        "    import matplotlib.pyplot as plt\n",
        "    import numpy as np\n",
        "    import itertools\n",
        "\n",
        "    accuracy = np.trace(cm) / float(np.sum(cm))\n",
        "    misclass = 1 - accuracy\n",
        "\n",
        "    if cmap is None:\n",
        "        cmap = plt.get_cmap('Blues')\n",
        "\n",
        "    plt.figure(figsize=(8, 6))\n",
        "    plt.imshow(cm, interpolation='nearest', cmap=cmap)\n",
        "    plt.title(title)\n",
        "    plt.colorbar()\n",
        "\n",
        "    if target_names is not None:\n",
        "        tick_marks = np.arange(len(target_names))\n",
        "        plt.xticks(tick_marks, target_names, rotation=45)\n",
        "        plt.yticks(tick_marks, target_names)\n",
        "\n",
        "    if normalize:\n",
        "        cm = cm.astype('float') / cm.sum(axis=1)[:, np.newaxis]\n",
        "\n",
        "\n",
        "    thresh = cm.max() / 1.5 if normalize else cm.max() / 2\n",
        "    for i, j in itertools.product(range(cm.shape[0]), range(cm.shape[1])):\n",
        "        if normalize:\n",
        "            plt.text(j, i, \"{:0.4f}\".format(cm[i, j]),\n",
        "                     horizontalalignment=\"center\",\n",
        "                     color=\"white\" if cm[i, j] > thresh else \"black\")\n",
        "        else:\n",
        "            plt.text(j, i, \"{:,}\".format(cm[i, j]),\n",
        "                     horizontalalignment=\"center\",\n",
        "                     color=\"white\" if cm[i, j] > thresh else \"black\")\n",
        "\n",
        "\n",
        "    plt.tight_layout()\n",
        "    plt.ylabel('True label')\n",
        "    plt.xlabel('Predicted label\\naccuracy={:0.4f}; misclass={:0.4f}'.format(accuracy, misclass))\n",
        "    plt.show()"
      ],
      "execution_count": 60,
      "outputs": []
    },
    {
      "cell_type": "code",
      "metadata": {
        "id": "QLLYgYMF8I7T",
        "outputId": "843e6a9a-4d75-4222-e11f-390ec8a5074d",
        "colab": {
          "base_uri": "https://localhost:8080/",
          "height": 467
        }
      },
      "source": [
        "plot_confusion_matrix(cm= np.array([[ tp,  fn],\n",
        "                                    [  fp, tn]]), \n",
        "                      normalize    = False,\n",
        "                      target_names = ['Like', 'Dislike'],\n",
        "                      title        = \"Confusion Matrix\")"
      ],
      "execution_count": 61,
      "outputs": [
        {
          "output_type": "display_data",
          "data": {
            "image/png": "[encoded data removed]",
            "text/plain": [
              "<Figure size 576x432 with 2 Axes>"
            ]
          },
          "metadata": {
            "tags": [],
            "needs_background": "light"
          }
        }
      ]
    },
    {
      "cell_type": "markdown",
      "metadata": {
        "id": "z1Qn2YFWquu9"
      },
      "source": [
        "The confusion matrix above confirms that we are good at predicting true positives but poor at predicting true negatives. \n",
        "\n",
        "For me, watching a good movie is important, so I would like to minimize false negatives. In order to do that, we would need to change the prediction threshold. However, that will decrease false negatives as well but will increase the true positives. At the same time, it will increase false positives. However, it's okay for me to miss out on good movies. What I want to avoid is watching bad movies.  "
      ]
    },
    {
      "cell_type": "code",
      "metadata": {
        "id": "yjP1TvkhCOGy",
        "outputId": "a8006c0d-808f-43cc-8cfc-c30dfc401d7a",
        "colab": {
          "base_uri": "https://localhost:8080/",
          "height": 69
        }
      },
      "source": [
        "df_combined['Like'].value_counts()"
      ],
      "execution_count": null,
      "outputs": [
        {
          "output_type": "execute_result",
          "data": {
            "text/plain": [
              "1.0    79\n",
              "2.0    50\n",
              "Name: Like, dtype: int64"
            ]
          },
          "metadata": {
            "tags": []
          },
          "execution_count": 63
        }
      ]
    },
    {
      "cell_type": "markdown",
      "metadata": {
        "id": "fc4e3IH0JF55"
      },
      "source": [
        "### 7.8 Grid Search with *accuracy* as the scoring metric"
      ]
    },
    {
      "cell_type": "code",
      "metadata": {
        "id": "atGtulA7E27d",
        "outputId": "62c334fc-b41d-47d3-d6c3-e949b9011c25",
        "colab": {
          "base_uri": "https://localhost:8080/",
          "height": 312
        }
      },
      "source": [
        "param = {'max_depth':[1,2,4,5,6,7,8,9,10],'min_samples_split':[1,2,3,4,5,8,10,20]}\n",
        "#scoring = {'AUC': 'roc_auc', 'Accuracy': 'accuracy'}\n",
        "clf = GridSearchCV(dt,param,scoring='accuracy',cv=5)\n",
        "clf.fit(x_train,y_train)"
      ],
      "execution_count": 64,
      "outputs": [
        {
          "output_type": "execute_result",
          "data": {
            "text/plain": [
              "GridSearchCV(cv=5, error_score=nan,\n",
              "             estimator=DecisionTreeClassifier(ccp_alpha=0.0, class_weight=None,\n",
              "                                              criterion='gini', max_depth=1,\n",
              "                                              max_features=None,\n",
              "                                              max_leaf_nodes=None,\n",
              "                                              min_impurity_decrease=0.0,\n",
              "                                              min_impurity_split=None,\n",
              "                                              min_samples_leaf=1,\n",
              "                                              min_samples_split=2,\n",
              "                                              min_weight_fraction_leaf=0.0,\n",
              "                                              presort='deprecated',\n",
              "                                              random_state=0, splitter='best'),\n",
              "             iid='deprecated', n_jobs=None,\n",
              "             param_grid={'max_depth': [1, 2, 4, 5, 6, 7, 8, 9, 10],\n",
              "                         'min_samples_split': [1, 2, 3, 4, 5, 8, 10, 20]},\n",
              "             pre_dispatch='2*n_jobs', refit=True, return_train_score=False,\n",
              "             scoring='accuracy', verbose=0)"
            ]
          },
          "metadata": {
            "tags": []
          },
          "execution_count": 64
        }
      ]
    },
    {
      "cell_type": "code",
      "metadata": {
        "id": "WEmk6cpQJP4e",
        "outputId": "00b224ca-1093-4984-90b4-272c60a75c76",
        "colab": {
          "base_uri": "https://localhost:8080/",
          "height": 69
        }
      },
      "source": [
        "print (clf.best_params_)\n",
        "print (clf.best_score_)\n",
        "print (clf.best_index_)"
      ],
      "execution_count": 65,
      "outputs": [
        {
          "output_type": "stream",
          "text": [
            "{'max_depth': 1, 'min_samples_split': 2}\n",
            "0.7444444444444445\n",
            "1\n"
          ],
          "name": "stdout"
        }
      ]
    },
    {
      "cell_type": "markdown",
      "metadata": {
        "id": "jXA1unTPJmqs"
      },
      "source": [
        "Interestingly, the best paramaters using *accuracy* as the scoring metric are the same as when *roc_auc* was the metric. Hence, we can stick with the previous model. "
      ]
    },
    {
      "cell_type": "markdown",
      "metadata": {
        "id": "9iae_bajt0dO"
      },
      "source": [
        "Future modifications:\n",
        "1. Look at new confusion matrix by changing threshold to increase true positives and reduce false negatives\n",
        "2. Perform predictions with unseen movies\n",
        "2. Add more movies to the training set and model again\n",
        "3. Add more variables to the data"
      ]
    },
    {
      "cell_type": "code",
      "metadata": {
        "id": "LlaEY1YquYRu"
      },
      "source": [
        ""
      ],
      "execution_count": null,
      "outputs": []
    }
  ]
}